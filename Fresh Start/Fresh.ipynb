{
 "cells": [
  {
   "cell_type": "markdown",
   "metadata": {},
   "source": [
    "Packages Used"
   ]
  },
  {
   "cell_type": "code",
   "execution_count": 165,
   "metadata": {},
   "outputs": [],
   "source": [
    "\n",
    "import pandas as pd\n",
    "import numpy as np\n",
    "import seaborn as sb\n",
    "import matplotlib.pyplot as plt\n"
   ]
  },
  {
   "cell_type": "markdown",
   "metadata": {},
   "source": [
    "Dataset to get the year from 2014-2020"
   ]
  },
  {
   "cell_type": "code",
   "execution_count": 166,
   "metadata": {},
   "outputs": [
    {
     "name": "stderr",
     "output_type": "stream",
     "text": [
      "/var/folders/p6/58mjrc3j36xb6l4d32z_8h000000gn/T/ipykernel_79302/3044367232.py:1: DtypeWarning: Columns (14,15,16,21) have mixed types. Specify dtype option on import or set low_memory=False.\n",
      "  new_df = pd.read_csv(\"Disaster.csv\")\n"
     ]
    }
   ],
   "source": [
    "new_df = pd.read_csv(\"New Dataset.csv\")\n",
    "\n",
    "new_df = new_df.rename(columns={'Event':'Disaster','Date (YMD)':'Date','&quot;Code Province&quot;':'Code Region','&quot;Code District&quot;':'Code District',\n",
    "                                '&quot;Code Division&quot;':'Code Commune','&quot;Division&quot;':'Location'})\n",
    "\n",
    "comb_needed = ['Serial','Disaster','Code Region','Code District','Code Commune','Location','Date']\n",
    "\n",
    "\n",
    "\n",
    "new_df = new_df[comb_needed]"
   ]
  },
  {
   "cell_type": "markdown",
   "metadata": {},
   "source": [
    "Dataset to get the year from 2000-2014"
   ]
  },
  {
   "cell_type": "code",
   "execution_count": 167,
   "metadata": {},
   "outputs": [],
   "source": [
    "old_df = pd.read_csv(\"Original Dataset.csv\")\n",
    "\n",
    "old_df = old_df.rename(columns={'Event':'Disaster','Date (YMD)':'Date'})\n",
    "needed_columns = ['Serial','Disaster','Code Region','Code District','Code Commune','Location','Date']\n",
    "\n",
    "old_df=old_df[needed_columns]\n"
   ]
  },
  {
   "cell_type": "markdown",
   "metadata": {},
   "source": [
    "Combine both datasets and remove duplicates"
   ]
  },
  {
   "cell_type": "code",
   "execution_count": 168,
   "metadata": {},
   "outputs": [],
   "source": [
    "combined_df = pd.concat([old_df,new_df],ignore_index=True)\n",
    "combined_df = combined_df.drop_duplicates()\n",
    "\n",
    "combined_df.to_csv('combined_df.csv',index=False)"
   ]
  },
  {
   "cell_type": "markdown",
   "metadata": {},
   "source": [
    "Select only the needed disasters"
   ]
  },
  {
   "cell_type": "code",
   "execution_count": 169,
   "metadata": {},
   "outputs": [],
   "source": [
    "\n",
    "df = combined_df\n",
    "\n",
    "disasters = ['FLOOD','CYCLONE & FLOOD','FLASH FLOOD','RAINS','URBAN FLOOD','COASTLINE','LANDSLIDE','LAND SUBSIDENC',\n",
    "            'CYCLONE','COASTLINE','GALE','HAILSTORM','STORM','STRONG WIND','TIDAL WAVE','TORNADO']\n",
    "df = df[df[\"Disaster\"].isin(disasters)]\n",
    "\n"
   ]
  },
  {
   "cell_type": "markdown",
   "metadata": {},
   "source": [
    "Select only the years of 2000. \n",
    "Insert another two columns for month and year"
   ]
  },
  {
   "cell_type": "code",
   "execution_count": 175,
   "metadata": {},
   "outputs": [],
   "source": [
    "\n",
    "df['Date'] = pd.to_datetime(df['Date'],errors='coerce')\n",
    "\n",
    "current_date = pd.Timestamp.now()\n",
    "df = df[(df['Date'].dt.year >= 2000) & (df['Date']<=current_date)]\n",
    "\n",
    "\n",
    "df['Year'] = df['Date'].dt.year\n",
    "df['Month'] = df['Date'].dt.month\n",
    "\n",
    "# To omit time value from date\n",
    "df['Date'] = df['Date'].dt.date\n",
    "\n"
   ]
  },
  {
   "cell_type": "markdown",
   "metadata": {},
   "source": [
    "Mapping the Districts to the District Codes"
   ]
  },
  {
   "cell_type": "code",
   "execution_count": 171,
   "metadata": {},
   "outputs": [],
   "source": [
    "districts = {\n",
    "    'lka001001':'Colombo',\n",
    "    'lka001002':'Gampaha',\n",
    "    'lka001003':'Kaluthara',\n",
    "    'lka002001':'Kandy',\n",
    "    'lka002002':'Matale',\n",
    "    'lka002003':'Nuwara Eliya',\n",
    "    'lka003001':'Galle',\n",
    "    'lka003002':'Matara',\n",
    "    'lka003003':'Hmabantota',\n",
    "    'lka004001':'Jaffna',\n",
    "    'lka004002':'Mannar',\n",
    "    'lka004003':'Vavuniya',\n",
    "    'lka004004':'Mullaitivu',\n",
    "    'lka004005':'Kilinochchi',\n",
    "    'lka005001':'Batticaloa',\n",
    "    'lka005002':'Ampara',\n",
    "    'lka005003':'Trincolmalee',\n",
    "    'lka006001':'Kurunegala',\n",
    "    'lka006002':'Puttalam',\n",
    "    'lka007001':'Anuradhapura',\n",
    "    'lka007002':'Polannaruwa',\n",
    "    'lka008001':'Badulla',\n",
    "    'lka008002':'Monaragala',\n",
    "    'lka009001':'Ratnapura',\n",
    "    'lka009002':'Kegalle'\n",
    "}\n",
    "\n",
    "df['District'] = df['Code District'].map(districts)\n",
    "\n",
    "col_order = ['Serial', 'Disaster', 'Code Region', 'Code District', 'Code Commune', 'Location',\n",
    "            'District', 'Date', 'Year', 'Month']\n",
    "\n",
    "df = df[col_order]\n",
    "\n",
    "# df.to_excel('Final.xlsx',index=False)\n",
    "# df.to_csv('Final.csv',index=False)"
   ]
  },
  {
   "cell_type": "markdown",
   "metadata": {},
   "source": [
    "Separate the disasters into 3 different files"
   ]
  },
  {
   "cell_type": "code",
   "execution_count": 172,
   "metadata": {},
   "outputs": [],
   "source": [
    "Flood=['FLOOD','CYCLONE & FLOOD','FLASH FLOOD','RAINS','URBAN FLOOD','COASTLINE']\n",
    "Landslide = ['LANDSLIDE','LAND SUBSIDENC','RAINS']\n",
    "Cyclone = ['CYCLONE','COASTLINE','CYCLONE & FLOOD','GALE','HAILSTORM','STORM','STRONG WIND','TIDAL WAVE','TORNADO']\n",
    "\n",
    "# Categorize disasters\n",
    "floods = df[df['Disaster'].str.upper().isin(Flood)]\n",
    "landslides = df[df['Disaster'].str.upper().isin(Landslide)]\n",
    "cyclones = df[df['Disaster'].str.upper().isin(Cyclone)]\n",
    "\n",
    "floods.to_csv('Flood.csv',index=False)\n",
    "floods.to_excel('Flood.xlsx',index=False)\n",
    "landslides.to_csv('Landslides.csv',index=False)\n",
    "landslides.to_excel('Landslides.xlsx',index=False)\n",
    "cyclones.to_csv('Cyclone.csv',index=False)\n",
    "cyclones.to_excel('Cyclone.xlsx',index=False)"
   ]
  },
  {
   "cell_type": "code",
   "execution_count": null,
   "metadata": {},
   "outputs": [],
   "source": [
    "flood_df = df[df['Disaster'] == 'CYCLONE']\n",
    "\n",
    "# Count the occurrences of floods in each month\n",
    "flood_counts = flood_df['Month'].value_counts().sort_index()\n",
    "flood_counts\n",
    "# Plot the count of floods in each month\n",
    "plt.figure(figsize=(10, 6))\n",
    "sb.barplot(x=flood_counts.index, y=flood_counts.values, palette='viridis')\n",
    "plt.title('Count of Floods in Each Month')\n",
    "plt.xlabel('Month')\n",
    "plt.ylabel('Count')\n",
    "plt.show()\n"
   ]
  }
 ],
 "metadata": {
  "kernelspec": {
   "display_name": "Python 3",
   "language": "python",
   "name": "python3"
  },
  "language_info": {
   "codemirror_mode": {
    "name": "ipython",
    "version": 3
   },
   "file_extension": ".py",
   "mimetype": "text/x-python",
   "name": "python",
   "nbconvert_exporter": "python",
   "pygments_lexer": "ipython3",
   "version": "3.10.4"
  }
 },
 "nbformat": 4,
 "nbformat_minor": 2
}
