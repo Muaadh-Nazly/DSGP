{
 "cells": [
  {
   "cell_type": "code",
   "execution_count": 2,
   "metadata": {},
   "outputs": [],
   "source": [
    "import pandas as pd"
   ]
  },
  {
   "cell_type": "code",
   "execution_count": 3,
   "metadata": {},
   "outputs": [],
   "source": [
    "weather_df = pd.read_csv(\"Rf data.csv\").dropna()\n",
    "weather_df = weather_df.rename(columns={'station_name':'District','yyyy':'Year'})\n",
    "columns = ['District','Year','1','2','3','4','5','6','7','8','9','10','11','12']\n",
    "weather_df = weather_df[columns]\n",
    "weather_df['District'] = weather_df['District'].str.capitalize()\n",
    "weather_df.loc[weather_df['District']=='Katugastota','District']= 'Kandy'\n",
    "weather_df.loc[weather_df['District']=='Pottuvil','District']= 'Ampara'\n",
    "weather_df.loc[weather_df['District']=='Nuwara eliya','District']= 'Nuwara Eliya'\n",
    "weather_df['Year']=weather_df['Year'].astype(int)\n",
    "\n",
    "disaster_df = pd.read_csv('Preprocessed.csv').dropna(subset=['District'])"
   ]
  },
  {
   "cell_type": "code",
   "execution_count": 4,
   "metadata": {},
   "outputs": [],
   "source": [
    "rainfall_melted1 = pd.melt(weather_df, id_vars=[ 'District', 'Year'], var_name='Month', value_name='Rainfall(mm)')\n",
    "\n",
    "disaster_df['Rainfall(mm)'] = 0\n",
    "disaster_df['Wind Speed(mph)'] = 0"
   ]
  },
  {
   "cell_type": "code",
   "execution_count": 5,
   "metadata": {},
   "outputs": [],
   "source": [
    "rainfall_melted1['Month'] = rainfall_melted1['Month'].astype(int)\n",
    "for idx, row in disaster_df.iterrows():\n",
    "    \n",
    "    matching_rows = rainfall_melted1[(rainfall_melted1['Year'] == row['Year']) &\n",
    "                                    (rainfall_melted1['Month'] == row['Month']) &\n",
    "                                    (rainfall_melted1['District'] == row['District'])]\n",
    "    \n",
    "    if not matching_rows.empty:\n",
    "        matching_index = matching_rows.index[0]\n",
    "        rainfall_value = matching_rows.at[matching_index, 'Rainfall(mm)']\n",
    "        disaster_df.at[idx, 'Rainfall(mm)'] = rainfall_value\n"
   ]
  },
  {
   "cell_type": "code",
   "execution_count": 6,
   "metadata": {},
   "outputs": [],
   "source": [
    "avg_wind = pd.read_csv('Wind_Average.csv')\n",
    "avg_rainfall = pd.read_csv('Average RF.csv')\n",
    "\n",
    "avg_rainfall_melted = pd.melt(avg_rainfall, id_vars=[ 'District'], var_name='Month', value_name='Rainfall(mm)')\n",
    "wind_melted = pd.melt(avg_wind, id_vars=[ 'District'], var_name='Month', value_name='Wind Speed(mph)')"
   ]
  },
  {
   "cell_type": "code",
   "execution_count": 7,
   "metadata": {},
   "outputs": [],
   "source": [
    "avg_rainfall_melted = avg_rainfall_melted.reset_index(drop=True)\n",
    "\n",
    "for idx, row in disaster_df.iterrows():\n",
    "    matching_row_rf = avg_rainfall_melted[(avg_rainfall_melted['Month'].astype(int) == row['Month']) &\n",
    "                                    (avg_rainfall_melted['District'] == row['District'])]\n",
    "    matching_row_ws = wind_melted[(wind_melted['Month'].astype(int) == row['Month']) &\n",
    "                                    (wind_melted['District'] == row['District'])]\n",
    "    \n",
    "    if not matching_row_rf.empty and row['Rainfall(mm)']==0.0:\n",
    "        new_rainfall_value = matching_row_rf.iloc[0]['Rainfall(mm)']\n",
    "        disaster_df.at[idx, 'Rainfall(mm)'] = new_rainfall_value\n",
    "    if not matching_row_ws.empty:\n",
    "        matching_index = matching_row_ws.index[0]\n",
    "        wind_value = matching_row_ws.at[matching_index, 'Wind Speed(mph)']\n",
    "        disaster_df.at[idx, 'Wind Speed(mph)'] = wind_value\n",
    "\n",
    "\n",
    "disaster_df.to_csv('Weather Inserted.csv',index=False)\n",
    "        "
   ]
  }
 ],
 "metadata": {
  "kernelspec": {
   "display_name": "Python 3",
   "language": "python",
   "name": "python3"
  },
  "language_info": {
   "codemirror_mode": {
    "name": "ipython",
    "version": 3
   },
   "file_extension": ".py",
   "mimetype": "text/x-python",
   "name": "python",
   "nbconvert_exporter": "python",
   "pygments_lexer": "ipython3",
   "version": "3.10.4"
  }
 },
 "nbformat": 4,
 "nbformat_minor": 2
}
