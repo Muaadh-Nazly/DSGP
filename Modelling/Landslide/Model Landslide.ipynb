{
 "cells": [
  {
   "cell_type": "markdown",
   "metadata": {},
   "source": [
    "## Import Libraries"
   ]
  },
  {
   "cell_type": "code",
   "execution_count": 1,
   "metadata": {},
   "outputs": [
    {
     "name": "stderr",
     "output_type": "stream",
     "text": [
      "2024-03-03 20:35:42.977408: I tensorflow/core/platform/cpu_feature_guard.cc:182] This TensorFlow binary is optimized to use available CPU instructions in performance-critical operations.\n",
      "To enable the following instructions: AVX2 FMA, in other operations, rebuild TensorFlow with the appropriate compiler flags.\n"
     ]
    }
   ],
   "source": [
    "import pandas as pd\n",
    "import numpy as np\n",
    "from sklearn.model_selection import train_test_split\n",
    "from sklearn.ensemble import RandomForestRegressor\n",
    "from sklearn.preprocessing import LabelEncoder\n",
    "from sklearn.metrics import mean_squared_error, classification_report\n",
    "from xgboost import XGBRegressor\n",
    "import joblib"
   ]
  },
  {
   "cell_type": "markdown",
   "metadata": {},
   "source": [
    "## Read File"
   ]
  },
  {
   "cell_type": "code",
   "execution_count": 2,
   "metadata": {},
   "outputs": [],
   "source": [
    "df = pd.read_csv('Model Landslide.csv')\n",
    "target = 'Landslide'"
   ]
  },
  {
   "cell_type": "markdown",
   "metadata": {},
   "source": [
    "## Encode the disaster"
   ]
  },
  {
   "cell_type": "code",
   "execution_count": 3,
   "metadata": {},
   "outputs": [],
   "source": [
    "label_encoder = LabelEncoder()\n",
    "df['Disaster'] = label_encoder.fit_transform(df['Disaster'])"
   ]
  },
  {
   "cell_type": "markdown",
   "metadata": {},
   "source": [
    "## Read the Encoded Categorical Values and aplly to dataset"
   ]
  },
  {
   "cell_type": "code",
   "execution_count": 4,
   "metadata": {},
   "outputs": [],
   "source": [
    "mapping_district = {}\n",
    "with open ('../../Integration/District_Mapped.txt','r+') as district_file:\n",
    "    for line in district_file:\n",
    "        key,value = line.strip().split(':')\n",
    "        mapping_district[key.strip()] = int(value.strip())\n",
    "        \n",
    "mapping_location = {}\n",
    "with open ('../../Integration//Location_Mapped.txt','r+') as district_file:\n",
    "    for line in district_file:\n",
    "        key,value = line.strip().split(':')\n",
    "        mapping_location[key.strip()] = int(value.strip())\n",
    "df['District'] = df['District'].map(mapping_district)\n",
    "df['Location'] = df['Location'].map(mapping_location)"
   ]
  },
  {
   "cell_type": "markdown",
   "metadata": {},
   "source": [
    "## Model the Prediction"
   ]
  },
  {
   "cell_type": "code",
   "execution_count": 5,
   "metadata": {},
   "outputs": [
    {
     "name": "stdout",
     "output_type": "stream",
     "text": [
      "Mean Squared Error rfr: 0.2179838227010159\n",
      "Mean Squared Error xgb: 0.2530545952811082\n"
     ]
    }
   ],
   "source": [
    "X = df.drop(columns=target)\n",
    "y = df[target]\n",
    "\n",
    "X_train, X_test, y_train, y_test = train_test_split(X, y, test_size=0.2, random_state=21)\n",
    "\n",
    "random_forest_model = RandomForestRegressor(n_estimators=500,max_depth=12)\n",
    "random_forest_model.fit(X_train,y_train)\n",
    "\n",
    "xgb_model = XGBRegressor(n_estimators=500,max_depth=6,learning_rate=0.1)\n",
    "xgb_model.fit(X_train,y_train)\n",
    "\n",
    "random_forest_predictions = random_forest_model.predict(X_test)\n",
    "xgb_predictions = xgb_model.predict(X_test)\n",
    "\n",
    "random_forest_predictions = np.clip(random_forest_predictions,0.03,0.99)\n",
    "xgb_predictions = np.clip(xgb_predictions,0.03,0.99)\n",
    "\n",
    "rfr_mse = mean_squared_error(y_test, random_forest_predictions)\n",
    "print(f'Mean Squared Error rfr: {rfr_mse}')\n",
    "\n",
    "xgb_mse = mean_squared_error(y_test,xgb_predictions)\n",
    "print(\"Mean Squared Error xgb:\", xgb_mse)\n"
   ]
  },
  {
   "cell_type": "markdown",
   "metadata": {},
   "source": [
    "## Export the model as pkl file"
   ]
  },
  {
   "cell_type": "code",
   "execution_count": 12,
   "metadata": {},
   "outputs": [
    {
     "data": {
      "text/plain": [
       "['Landslide_XGBModel.pkl']"
      ]
     },
     "execution_count": 12,
     "metadata": {},
     "output_type": "execute_result"
    }
   ],
   "source": [
    "ref_columns = list(X.columns)\n",
    "joblib.dump(value=[random_forest_model,ref_columns,target],filename='Landslide_RFRModel.pkl')\n",
    "joblib.dump(value=[xgb_model,ref_columns,target],filename='Landslide_XGBModel.pkl')\n"
   ]
  }
 ],
 "metadata": {
  "kernelspec": {
   "display_name": "Python 3",
   "language": "python",
   "name": "python3"
  },
  "language_info": {
   "codemirror_mode": {
    "name": "ipython",
    "version": 3
   },
   "file_extension": ".py",
   "mimetype": "text/x-python",
   "name": "python",
   "nbconvert_exporter": "python",
   "pygments_lexer": "ipython3",
   "version": "3.10.4"
  }
 },
 "nbformat": 4,
 "nbformat_minor": 2
}
