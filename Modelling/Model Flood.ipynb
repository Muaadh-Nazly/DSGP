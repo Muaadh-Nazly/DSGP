{
 "cells": [
  {
   "cell_type": "code",
   "execution_count": 9,
   "metadata": {},
   "outputs": [],
   "source": [
    "import pandas as pd\n",
    "import numpy as np\n",
    "from sklearn.model_selection import train_test_split\n",
    "from sklearn.ensemble import RandomForestRegressor\n",
    "from sklearn.preprocessing import LabelEncoder\n",
    "from sklearn.metrics import mean_squared_error,r2_score\n",
    "from xgboost import XGBRegressor\n",
    "import tensorflow as tf\n",
    "import joblib"
   ]
  },
  {
   "cell_type": "code",
   "execution_count": 10,
   "metadata": {},
   "outputs": [],
   "source": [
    "df = pd.read_csv('Model Flood.csv')"
   ]
  },
  {
   "cell_type": "code",
   "execution_count": 11,
   "metadata": {},
   "outputs": [],
   "source": [
    "label_encoder = LabelEncoder()\n",
    "df['Disaster'] = label_encoder.fit_transform(df['Disaster'])\n",
    "mapping_disaster = dict(zip(label_encoder.classes_, label_encoder.transform(label_encoder.classes_)))\n",
    "\n",
    "df['District'] = label_encoder.fit_transform(df['District'])\n",
    "mapping_district = dict(zip(label_encoder.classes_, label_encoder.transform(label_encoder.classes_)))\n",
    "\n",
    "\n",
    "df['Location'] = label_encoder.fit_transform(df['Location'])\n",
    "mapping_location = dict(zip(label_encoder.classes_, label_encoder.transform(label_encoder.classes_)))\n"
   ]
  },
  {
   "cell_type": "code",
   "execution_count": 12,
   "metadata": {},
   "outputs": [],
   "source": [
    "with open ('District_Mapped.txt','w+') as file:\n",
    "    for key,pair in mapping_district.items():\n",
    "        file.write(str(key)+' : '+str(pair))\n",
    "        file.write('\\n')\n",
    "with open ('Location_Mapped.txt','w+') as file:\n",
    "    for key,pair in mapping_location.items():\n",
    "        file.write(str(key)+' : '+str(pair))\n",
    "        file.write('\\n')"
   ]
  },
  {
   "cell_type": "code",
   "execution_count": 13,
   "metadata": {},
   "outputs": [
    {
     "name": "stdout",
     "output_type": "stream",
     "text": [
      "Mean Squared Error rfr: 0.15858323658764303\n",
      "Mean Squared Error xgb: 0.16249767628858552\n"
     ]
    },
    {
     "data": {
      "text/plain": [
       "['XGBModel.pkl']"
      ]
     },
     "execution_count": 13,
     "metadata": {},
     "output_type": "execute_result"
    }
   ],
   "source": [
    "X = df.drop(columns=['Flood'])\n",
    "y = df['Flood']\n",
    "\n",
    "X_train, X_test, y_train, y_test = train_test_split(X, y, test_size=0.2, random_state=21)\n",
    "\n",
    "random_forest_model = RandomForestRegressor(n_estimators=500,max_depth=12)\n",
    "random_forest_model.fit(X_train,y_train)\n",
    "\n",
    "xgb_model = XGBRegressor(n_estimators=500,max_depth=6,learning_rate=0.1)\n",
    "xgb_model.fit(X_train,y_train)\n",
    "\n",
    "random_forest_predictions = random_forest_model.predict(X_test)\n",
    "xgb_pred = xgb_model.predict(X_test)\n",
    "\n",
    "rfr_mse = mean_squared_error(y_test, random_forest_predictions)\n",
    "print(f'Mean Squared Error rfr: {rfr_mse}')\n",
    "\n",
    "xgb_mse = mean_squared_error(y_test,xgb_pred)\n",
    "print(\"Mean Squared Error xgb:\", xgb_mse)\n",
    "\n",
    "joblib.dump(random_forest_model,'RFRModel.pkl')\n",
    "joblib.dump(xgb_model,'XGBModel.pkl')\n"
   ]
  },
  {
   "cell_type": "code",
   "execution_count": 14,
   "metadata": {},
   "outputs": [],
   "source": [
    "rfr_model = joblib.load('RFRModel.pkl')\n",
    "xgb_model = joblib.load('XGBModel.pkl')"
   ]
  },
  {
   "cell_type": "code",
   "execution_count": 15,
   "metadata": {},
   "outputs": [
    {
     "name": "stdout",
     "output_type": "stream",
     "text": [
      "0 2738 0 12 20 553.1\n",
      "RandomForest prediction [0.7376]\n",
      "XGBRegressor prediction [0.7509]\n"
     ]
    }
   ],
   "source": [
    "def predict_disaster(disaster,location,location1,location2,location3,location4,district,month,day,rainfall):\n",
    "    locations = [location,location1,location2,location3,location4]\n",
    "    for location in locations:\n",
    "        location_code = mapping_location.get(location)\n",
    "        if location_code is None:\n",
    "            continue\n",
    "        else:\n",
    "            break\n",
    "    else:\n",
    "        location_code = max(mapping_location.values())+1\n",
    "        \n",
    "    disaster_code = mapping_disaster.get(disaster)\n",
    "    district_code = mapping_district.get(district)\n",
    "    \n",
    "    user_data = pd.DataFrame({\n",
    "        'Disaster' : disaster_code,\n",
    "        'Location' : location_code,\n",
    "        'District' : district_code,\n",
    "        'Month' : int(month),\n",
    "        'Day' : int(day),\n",
    "        'Rainfall(mm)': float(rainfall)\n",
    "    },index=[0])\n",
    "    \n",
    "    rfr_prediction = np.round(random_forest_model.predict(user_data),4)\n",
    "    xgb_prediction = np.round(xgb_model.predict(user_data),4)\n",
    "    \n",
    "    return rfr_prediction,xgb_prediction\n",
    "\n",
    "prediction1,prediction2 = predict_disaster('Flood','ds','gfds','Pulungasmulla','ds3','543','Ampara',12,20,553.1)\n",
    "print('RandomForest prediction',prediction1)\n",
    "print('XGBRegressor prediction',prediction2)\n"
   ]
  },
  {
   "cell_type": "code",
   "execution_count": 16,
   "metadata": {},
   "outputs": [],
   "source": [
    "# plot_predicted_vs_true(y_test,random_forest_predictions)\n",
    "# regression_scatter(y_test,random_forest_predictions)\n",
    "# plot_residuals(y_test,random_forest_predictions)"
   ]
  }
 ],
 "metadata": {
  "kernelspec": {
   "display_name": "Python 3",
   "language": "python",
   "name": "python3"
  },
  "language_info": {
   "codemirror_mode": {
    "name": "ipython",
    "version": 3
   },
   "file_extension": ".py",
   "mimetype": "text/x-python",
   "name": "python",
   "nbconvert_exporter": "python",
   "pygments_lexer": "ipython3",
   "version": "3.10.4"
  }
 },
 "nbformat": 4,
 "nbformat_minor": 2
}
