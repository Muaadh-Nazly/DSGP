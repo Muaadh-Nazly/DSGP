{
 "cells": [
  {
   "cell_type": "code",
   "execution_count": 2,
   "metadata": {},
   "outputs": [],
   "source": [
    "import pandas as pd\n",
    "from sklearn.model_selection import train_test_split\n",
    "from sklearn.ensemble import RandomForestRegressor\n",
    "from sklearn.preprocessing import LabelEncoder\n",
    "from sklearn.metrics import mean_squared_error\n",
    "from xgboost import XGBRegressor"
   ]
  },
  {
   "cell_type": "code",
   "execution_count": 3,
   "metadata": {},
   "outputs": [],
   "source": [
    "df = pd.read_csv('Model Landslide.csv')\n",
    "model_df = df"
   ]
  },
  {
   "cell_type": "code",
   "execution_count": 4,
   "metadata": {},
   "outputs": [],
   "source": [
    "label_encoder = LabelEncoder()\n",
    "model_df['Disaster'] = label_encoder.fit_transform(df['Disaster'])\n",
    "mapping_disaster = dict(zip(label_encoder.classes_, label_encoder.transform(label_encoder.classes_)))\n",
    "\n",
    "model_df['District'] = label_encoder.fit_transform(df['District'])\n",
    "mapping_district = dict(zip(label_encoder.classes_, label_encoder.transform(label_encoder.classes_)))\n",
    "\n",
    "model_df['Location'] = label_encoder.fit_transform(df['Location'])\n",
    "mapping_location = dict(zip(label_encoder.classes_, label_encoder.transform(label_encoder.classes_)))"
   ]
  },
  {
   "cell_type": "code",
   "execution_count": 5,
   "metadata": {},
   "outputs": [
    {
     "name": "stdout",
     "output_type": "stream",
     "text": [
      "Mean Squared Error rfr: 0.22362103132192193\n",
      "Mean Squared Error xgb: 0.2874785700775354\n"
     ]
    }
   ],
   "source": [
    "X = df.drop(columns=['Landslide'])\n",
    "y = df['Landslide']\n",
    "\n",
    "X_train, X_test, y_train, y_test = train_test_split(X, y, test_size=0.2, random_state=21)\n",
    "\n",
    "random_forest_model = RandomForestRegressor(n_estimators=600)\n",
    "random_forest_model.fit(X_train,y_train)\n",
    "\n",
    "xgb_reg = XGBRegressor(n_estimators=500)\n",
    "xgb_reg.fit(X_train,y_train)\n",
    "\n",
    "random_forest_predictions = random_forest_model.predict(X_test)\n",
    "xgb_pred = xgb_reg.predict(X_test)\n",
    "\n",
    "rfr_mse = mean_squared_error(y_test, random_forest_predictions)\n",
    "print(f'Mean Squared Error rfr: {rfr_mse}')\n",
    "\n",
    "xgb_mse = mean_squared_error(y_test,xgb_pred)\n",
    "print(\"Mean Squared Error xgb:\", xgb_mse)"
   ]
  },
  {
   "cell_type": "code",
   "execution_count": 6,
   "metadata": {},
   "outputs": [],
   "source": [
    "location_row = df[df['Location'] == 'Balangoda']\n",
    "new_usr_data = pd.DataFrame({\n",
    "    'Disaster' : 'Landslide',\n",
    "    'Location' : 'Nochchiyagama',\n",
    "    'District' : 'Anuradhapura'\n",
    "}, index=[0])\n"
   ]
  },
  {
   "cell_type": "code",
   "execution_count": 7,
   "metadata": {},
   "outputs": [
    {
     "name": "stdout",
     "output_type": "stream",
     "text": [
      "Mapping value for location 'Nochchiyagama': 1004\n",
      "Mapping value for Disaster 'Landslide': 0\n",
      "Mapping value for District 'Anuradhapura': 0\n"
     ]
    }
   ],
   "source": [
    "new_disaster = new_usr_data['Disaster'].iloc[0]\n",
    "new_location = new_usr_data['Location'].iloc[0]\n",
    "new_district = new_usr_data['District'].iloc[0]\n",
    "\n",
    "for location in mapping_location.keys():\n",
    "    if new_location in location:\n",
    "        mapping_location_value = mapping_location.get(location)\n",
    "        print(f\"Mapping value for location '{new_location}': {mapping_location_value}\")\n",
    "        break\n",
    "else:\n",
    "    print(f\"Location '{new_location}' not found in unique locations.\")\n",
    "    \n",
    "mapping_disaster_value = mapping_disaster.get(new_disaster)\n",
    "print(f\"Mapping value for Disaster '{new_disaster}': {mapping_disaster_value}\")\n",
    "\n",
    "mapping_district_value = mapping_district.get(new_district)\n",
    "print(f\"Mapping value for District '{new_district}': {mapping_district_value}\")"
   ]
  },
  {
   "cell_type": "code",
   "execution_count": 16,
   "metadata": {},
   "outputs": [],
   "source": [
    "new_data = pd.DataFrame({\n",
    "    'Disaster' : mapping_disaster_value,\n",
    "    'Location' : mapping_location_value,\n",
    "    'District' : mapping_district_value,\n",
    "    'Month' : 11,\n",
    "    'Day' : 20,\n",
    "    'Rainfall(mm)' : 237.5\n",
    "}, index=[0])\n"
   ]
  },
  {
   "cell_type": "code",
   "execution_count": 17,
   "metadata": {},
   "outputs": [
    {
     "name": "stdout",
     "output_type": "stream",
     "text": [
      "Prediction for the new data using rfr: 0.8643\n",
      "Prediction for the new data using xgb: 0.5095\n"
     ]
    }
   ],
   "source": [
    "rfr_prediction = random_forest_model.predict(new_data)\n",
    "xgb_prediction = xgb_reg.predict(new_data)\n",
    "\n",
    "print(f'Prediction for the new data using rfr: {rfr_prediction[0]:.4f}')\n",
    "print(f'Prediction for the new data using xgb: {xgb_prediction[0]:.4f}')\n"
   ]
  }
 ],
 "metadata": {
  "kernelspec": {
   "display_name": "Python 3",
   "language": "python",
   "name": "python3"
  },
  "language_info": {
   "codemirror_mode": {
    "name": "ipython",
    "version": 3
   },
   "file_extension": ".py",
   "mimetype": "text/x-python",
   "name": "python",
   "nbconvert_exporter": "python",
   "pygments_lexer": "ipython3",
   "version": "3.10.4"
  }
 },
 "nbformat": 4,
 "nbformat_minor": 2
}
