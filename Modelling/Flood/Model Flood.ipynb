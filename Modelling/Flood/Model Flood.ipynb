{
 "cells": [
  {
   "cell_type": "markdown",
   "metadata": {},
   "source": [
    "## Import Libraries"
   ]
  },
  {
   "cell_type": "code",
   "execution_count": 6,
   "metadata": {},
   "outputs": [],
   "source": [
    "import pandas as pd\n",
    "import numpy as np\n",
    "from sklearn.model_selection import train_test_split\n",
    "from sklearn.ensemble import RandomForestRegressor\n",
    "from sklearn.preprocessing import LabelEncoder\n",
    "from sklearn.metrics import mean_squared_error\n",
    "from xgboost import XGBRegressor\n",
    "import joblib"
   ]
  },
  {
   "cell_type": "markdown",
   "metadata": {},
   "source": [
    "## Read File"
   ]
  },
  {
   "cell_type": "code",
   "execution_count": null,
   "metadata": {},
   "outputs": [],
   "source": [
    "df = pd.read_csv('Model Flood.csv')\n",
    "target = 'Flood'"
   ]
  },
  {
   "cell_type": "markdown",
   "metadata": {},
   "source": [
    "## Encode the Categorical Values"
   ]
  },
  {
   "cell_type": "code",
   "execution_count": 8,
   "metadata": {},
   "outputs": [],
   "source": [
    "label_encoder = LabelEncoder()\n",
    "df['Disaster'] = label_encoder.fit_transform(df['Disaster'])\n",
    "mapping_disaster = dict(zip(label_encoder.classes_, label_encoder.transform(label_encoder.classes_)))\n",
    "\n",
    "df['District'] = label_encoder.fit_transform(df['District'])\n",
    "mapping_district = dict(zip(label_encoder.classes_, label_encoder.transform(label_encoder.classes_)))\n",
    "\n",
    "\n",
    "df['Location'] = label_encoder.fit_transform(df['Location'])\n",
    "mapping_location = dict(zip(label_encoder.classes_, label_encoder.transform(label_encoder.classes_)))\n"
   ]
  },
  {
   "cell_type": "markdown",
   "metadata": {},
   "source": [
    "## Export the encoded values to txt file"
   ]
  },
  {
   "cell_type": "code",
   "execution_count": 9,
   "metadata": {},
   "outputs": [],
   "source": [
    "with open ('Flood_District_Mapped.txt','w+') as file:\n",
    "    for key,pair in mapping_district.items():\n",
    "        file.write(str(key)+' : '+str(pair))\n",
    "        file.write('\\n')\n",
    "with open ('Flood_Location_Mapped.txt','w+') as file:\n",
    "    for key,pair in mapping_location.items():\n",
    "        file.write(str(key)+' : '+str(pair))\n",
    "        file.write('\\n')"
   ]
  },
  {
   "cell_type": "markdown",
   "metadata": {},
   "source": [
    "## Model the Prediction"
   ]
  },
  {
   "cell_type": "code",
   "execution_count": 13,
   "metadata": {},
   "outputs": [
    {
     "name": "stdout",
     "output_type": "stream",
     "text": [
      "Mean Squared Error rfr: 0.16982295565060382\n",
      "Mean Squared Error xgb: 0.17694292022368152\n"
     ]
    }
   ],
   "source": [
    "X = df.drop(columns=target)\n",
    "y = df[target]\n",
    "\n",
    "X_train, X_test, y_train, y_test = train_test_split(X, y, test_size=0.2, random_state=21)\n",
    "\n",
    "random_forest_model = RandomForestRegressor(n_estimators=500,max_depth=12)\n",
    "random_forest_model.fit(X_train,y_train)\n",
    "\n",
    "xgb_model = XGBRegressor(n_estimators=500,max_depth=6,learning_rate=0.1)\n",
    "xgb_model.fit(X_train,y_train)\n",
    "\n",
    "random_forest_predictions = random_forest_model.predict(X_test)\n",
    "xgb_predictions = xgb_model.predict(X_test)\n",
    "\n",
    "random_forest_predictions = np.clip(random_forest_predictions,0.03,0.99)\n",
    "xgb_predictions = np.clip(xgb_predictions,0.03,0.99)\n",
    "\n",
    "rfr_mse = mean_squared_error(y_test, random_forest_predictions)\n",
    "print(f'Mean Squared Error rfr: {rfr_mse}')\n",
    "\n",
    "xgb_mse = mean_squared_error(y_test,xgb_predictions)\n",
    "print(\"Mean Squared Error xgb:\", xgb_mse)\n"
   ]
  },
  {
   "cell_type": "markdown",
   "metadata": {},
   "source": [
    "## Export the model as pkl file"
   ]
  },
  {
   "cell_type": "code",
   "execution_count": null,
   "metadata": {},
   "outputs": [
    {
     "data": {
      "text/plain": [
       "['Flood_XGBModel.pkl']"
      ]
     },
     "execution_count": 14,
     "metadata": {},
     "output_type": "execute_result"
    }
   ],
   "source": [
    "ref_columns = list(X.columns)\n",
    "joblib.dump(value=[random_forest_model,ref_columns,target],filename='Flood_RFRModel.pkl')\n",
    "joblib.dump(value=[xgb_model,ref_columns,target],filename='Flood_XGBModel.pkl')\n"
   ]
  }
 ],
 "metadata": {
  "kernelspec": {
   "display_name": "Python 3",
   "language": "python",
   "name": "python3"
  },
  "language_info": {
   "codemirror_mode": {
    "name": "ipython",
    "version": 3
   },
   "file_extension": ".py",
   "mimetype": "text/x-python",
   "name": "python",
   "nbconvert_exporter": "python",
   "pygments_lexer": "ipython3",
   "version": "3.10.4"
  }
 },
 "nbformat": 4,
 "nbformat_minor": 2
}
