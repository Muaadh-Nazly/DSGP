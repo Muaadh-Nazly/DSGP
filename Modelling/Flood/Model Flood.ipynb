{
 "cells": [
  {
   "cell_type": "markdown",
   "metadata": {},
   "source": [
    "## Import Libraries"
   ]
  },
  {
   "cell_type": "code",
   "execution_count": 19,
   "metadata": {},
   "outputs": [],
   "source": [
    "import pandas as pd\n",
    "import numpy as np\n",
    "from sklearn.model_selection import train_test_split\n",
    "from sklearn.ensemble import RandomForestRegressor\n",
    "from sklearn.preprocessing import LabelEncoder\n",
    "from sklearn.metrics import mean_squared_error, mean_absolute_error\n",
    "from xgboost import XGBRegressor\n",
    "import joblib"
   ]
  },
  {
   "cell_type": "markdown",
   "metadata": {},
   "source": [
    "## Read File"
   ]
  },
  {
   "cell_type": "code",
   "execution_count": 20,
   "metadata": {},
   "outputs": [],
   "source": [
    "df = pd.read_csv('Model Flood.csv')\n",
    "target = 'Flood'"
   ]
  },
  {
   "cell_type": "markdown",
   "metadata": {},
   "source": [
    "## Encode the disaster"
   ]
  },
  {
   "cell_type": "code",
   "execution_count": 21,
   "metadata": {},
   "outputs": [],
   "source": [
    "label_encoder = LabelEncoder()\n",
    "df['Disaster'] = label_encoder.fit_transform(df['Disaster'])"
   ]
  },
  {
   "cell_type": "markdown",
   "metadata": {},
   "source": [
    "## Read the Encoded Categorical Values and aplly to dataset"
   ]
  },
  {
   "cell_type": "code",
   "execution_count": 22,
   "metadata": {},
   "outputs": [],
   "source": [
    "mapping_district = {}\n",
    "with open ('../../Integration/District_Mapped.txt','r+') as district_file:\n",
    "    for line in district_file:\n",
    "        key,value = line.strip().split(':')\n",
    "        mapping_district[key.strip()] = int(value.strip())\n",
    "        \n",
    "mapping_location = {}\n",
    "with open ('../../Integration/Location_Mapped.txt','r+') as district_file:\n",
    "    for line in district_file:\n",
    "        key,value = line.strip().split(':')\n",
    "        mapping_location[key.strip()] = int(value.strip())\n",
    "df['District'] = df['District'].map(mapping_district)\n",
    "df['Location'] = df['Location'].map(mapping_location)"
   ]
  },
  {
   "cell_type": "markdown",
   "metadata": {},
   "source": [
    "## Model the Prediction"
   ]
  },
  {
   "cell_type": "code",
   "execution_count": 23,
   "metadata": {},
   "outputs": [],
   "source": [
    "X = df.drop(columns=target)\n",
    "y = df[target]\n",
    "\n",
    "X_train, X_test, y_train, y_test = train_test_split(X, y, test_size=0.2, random_state=21)\n",
    "\n",
    "random_forest_model = RandomForestRegressor(n_estimators=500,max_depth=12)\n",
    "random_forest_model.fit(X_train,y_train)\n",
    "\n",
    "xgb_model = XGBRegressor(n_estimators=500,max_depth=6,learning_rate=0.1)\n",
    "xgb_model.fit(X_train,y_train)\n",
    "\n",
    "random_forest_predictions = random_forest_model.predict(X_test)\n",
    "xgb_predictions = xgb_model.predict(X_test)\n",
    "\n",
    "random_forest_predictions = np.clip(random_forest_predictions,0.03,0.99)\n",
    "xgb_predictions = np.clip(xgb_predictions,0.03,0.99)\n"
   ]
  },
  {
   "cell_type": "code",
   "execution_count": 24,
   "metadata": {},
   "outputs": [
    {
     "name": "stdout",
     "output_type": "stream",
     "text": [
      "Mean Squared Error rfr: 0.16980576708018902\n",
      "Mean Squared Error xgb: 0.17694292022368152\n",
      "Mean Absolute Error rfr: 0.3523138934454112\n",
      "Mean Absolute Error xgb: 0.3474152840202047\n"
     ]
    }
   ],
   "source": [
    "rfr_mse = mean_squared_error(y_test, random_forest_predictions)\n",
    "print(f'Mean Squared Error rfr: {rfr_mse}')\n",
    "\n",
    "xgb_mse = mean_squared_error(y_test,xgb_predictions)\n",
    "print(\"Mean Squared Error xgb:\", xgb_mse)\n",
    "\n",
    "rfr_mae = mean_absolute_error(y_test, random_forest_predictions)\n",
    "print(f'Mean Absolute Error rfr: {rfr_mae}')\n",
    "\n",
    "xgb_mae = mean_absolute_error(y_test,xgb_predictions)\n",
    "print(\"Mean Absolute Error xgb:\", xgb_mae)"
   ]
  },
  {
   "cell_type": "markdown",
   "metadata": {},
   "source": [
    "## Export the model as pkl file"
   ]
  },
  {
   "cell_type": "code",
   "execution_count": 25,
   "metadata": {},
   "outputs": [
    {
     "data": {
      "text/plain": [
       "['Flood_XGBModel.pkl']"
      ]
     },
     "execution_count": 25,
     "metadata": {},
     "output_type": "execute_result"
    }
   ],
   "source": [
    "ref_columns = list(X.columns)\n",
    "joblib.dump(value=[random_forest_model,ref_columns,target],filename='Flood_RFRModel.pkl')\n",
    "joblib.dump(value=[xgb_model,ref_columns,target],filename='Flood_XGBModel.pkl')\n"
   ]
  }
 ],
 "metadata": {
  "kernelspec": {
   "display_name": "Python 3",
   "language": "python",
   "name": "python3"
  },
  "language_info": {
   "codemirror_mode": {
    "name": "ipython",
    "version": 3
   },
   "file_extension": ".py",
   "mimetype": "text/x-python",
   "name": "python",
   "nbconvert_exporter": "python",
   "pygments_lexer": "ipython3",
   "version": "3.10.4"
  }
 },
 "nbformat": 4,
 "nbformat_minor": 2
}
