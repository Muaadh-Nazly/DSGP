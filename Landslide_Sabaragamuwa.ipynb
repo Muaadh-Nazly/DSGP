{
 "cells": [
  {
   "cell_type": "code",
   "execution_count": 5,
   "metadata": {},
   "outputs": [],
   "source": [
    "import pandas as pd\n",
    "from sklearn.model_selection import train_test_split\n",
    "from sklearn.ensemble import RandomForestRegressor\n",
    "from sklearn.metrics import mean_absolute_error\n",
    "from sklearn.preprocessing import LabelEncoder\n",
    "from sklearn.impute import SimpleImputer"
   ]
  },
  {
   "cell_type": "code",
   "execution_count": 33,
   "metadata": {},
   "outputs": [],
   "source": [
    "\n",
    "df = pd.read_csv('Allocation/SubParts/Sabaragamuwa.csv')"
   ]
  },
  {
   "cell_type": "code",
   "execution_count": 38,
   "metadata": {},
   "outputs": [],
   "source": [
    "# Get the columns as x and y values\n",
    "X = df.drop(columns=['Result'])\n",
    "y = df['Result']\n",
    "\n",
    "label_encoder = LabelEncoder()\n",
    "\n",
    "X['Serial'] = label_encoder.fit_transform(X['Serial'])\n",
    "X['Disaster'] = label_encoder.fit_transform(X['Disaster'])\n",
    "X['Code Region'] = label_encoder.fit_transform(X['Code Region'])\n",
    "X['Code District'] = label_encoder.fit_transform(X['Code District'])\n",
    "X['Code Commune'] = label_encoder.fit_transform(X['Code Commune'])\n",
    "X['Location'] = label_encoder.fit_transform(X['Location'])\n",
    "X['District'] = label_encoder.fit_transform(X['District'])\n",
    "X['Date'] = label_encoder.fit_transform(X['Date'])\n",
    "X['Duration (d)'] = label_encoder.fit_transform(X['Duration (d)'])\n",
    "X['Source'] = label_encoder.fit_transform(X['Source'])\n",
    "X['Year'] = label_encoder.fit_transform(X['Year'])\n",
    "X['Month'] = label_encoder.fit_transform(X['Month'])\n",
    "# X['Result'] = label_encoder.fit_transform(X['Result'])\n",
    "\n",
    "X_train, X_test, y_train, y_test = train_test_split(X, y, test_size=0.2, random_state=42)"
   ]
  },
  {
   "cell_type": "code",
   "execution_count": 39,
   "metadata": {},
   "outputs": [],
   "source": [
    "imputer = SimpleImputer(strategy='most_frequent')\n",
    "X_train_imputed = imputer.fit_transform(X_train)\n",
    "X_test_imputed = imputer.transform(X_test)\n",
    "\n",
    "X_train_imputed\n",
    "\n"
   ]
  },
  {
   "cell_type": "code",
   "execution_count": null,
   "metadata": {},
   "outputs": [],
   "source": [
    "model = RandomForestRegressor(n_estimators=100, random_state=42)\n",
    "model.fit(X_train_imputed, y_train)\n",
    "\n",
    "\n",
    "# Make predictions on the test set\n",
    "y_pred = model.predict(X_test_imputed)\n",
    "\n",
    "\n",
    "# Evaluate the model\n",
    "mae = mean_absolute_error(y_test, y_pred)\n",
    "print(f'Mean Absolute Error: {mae}')"
   ]
  },
  {
   "cell_type": "code",
   "execution_count": null,
   "metadata": {},
   "outputs": [],
   "source": []
  }
 ],
 "metadata": {
  "kernelspec": {
   "display_name": "Python 3",
   "language": "python",
   "name": "python3"
  },
  "language_info": {
   "codemirror_mode": {
    "name": "ipython",
    "version": 3
   },
   "file_extension": ".py",
   "mimetype": "text/x-python",
   "name": "python",
   "nbconvert_exporter": "python",
   "pygments_lexer": "ipython3",
   "version": "3.10.4"
  }
 },
 "nbformat": 4,
 "nbformat_minor": 2
}
