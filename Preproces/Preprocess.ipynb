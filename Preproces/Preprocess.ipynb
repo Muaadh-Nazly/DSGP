{
 "cells": [
  {
   "cell_type": "markdown",
   "metadata": {},
   "source": [
    "## Packages Used"
   ]
  },
  {
   "cell_type": "code",
   "execution_count": 61,
   "metadata": {},
   "outputs": [],
   "source": [
    "import pandas as pd\n",
    "import random\n",
    "from datetime import datetime, timedelta\n",
    "import matplotlib.pyplot as plt\n",
    "import seaborn as sb"
   ]
  },
  {
   "cell_type": "markdown",
   "metadata": {},
   "source": [
    "## Dataset to get the year from 2014-2020"
   ]
  },
  {
   "cell_type": "code",
   "execution_count": 62,
   "metadata": {},
   "outputs": [
    {
     "name": "stderr",
     "output_type": "stream",
     "text": [
      "/var/folders/_x/05s1mgk171vd_snfhp0tsfyr0000gn/T/ipykernel_5220/2435295531.py:1: DtypeWarning: Columns (14,15,16,21) have mixed types. Specify dtype option on import or set low_memory=False.\n",
      "  new_df = pd.read_csv(\"New Dataset.csv\")\n"
     ]
    }
   ],
   "source": [
    "new_df = pd.read_csv(\"New Dataset.csv\")\n",
    "\n",
    "# Renaming the columns as our need\n",
    "new_df = new_df.rename(columns={'Event':'Disaster','Date (YMD)':'Date','&quot;Code Province&quot;':'Code Region','&quot;Code District&quot;':'Code District',\n",
    "                                '&quot;Code Division&quot;':'Code Commune','&quot;Division&quot;':'Location'})\n",
    "\n",
    "comb_needed = ['Disaster','Code Region','Code District','Code Commune','Location','Date']\n",
    "\n",
    "new_df = new_df[comb_needed]"
   ]
  },
  {
   "cell_type": "markdown",
   "metadata": {},
   "source": [
    "## Dataset to get the year up to 2014"
   ]
  },
  {
   "cell_type": "code",
   "execution_count": 63,
   "metadata": {},
   "outputs": [],
   "source": [
    "old_df = pd.read_csv(\"Original Dataset.csv\")\n",
    "\n",
    "# Renaming the columns as our need\n",
    "old_df = old_df.rename(columns={'Event':'Disaster','Date (YMD)':'Date'})\n",
    "needed_columns = ['Disaster','Code Region','Code District','Code Commune','Location','Date']\n",
    "\n",
    "old_df=old_df[needed_columns]\n"
   ]
  },
  {
   "cell_type": "markdown",
   "metadata": {},
   "source": [
    "## Combine both datasets and remove duplicates"
   ]
  },
  {
   "cell_type": "code",
   "execution_count": 64,
   "metadata": {},
   "outputs": [],
   "source": [
    "combined_df = pd.concat([old_df,new_df],ignore_index=True)\n",
    "combined_df = combined_df.drop_duplicates()"
   ]
  },
  {
   "cell_type": "markdown",
   "metadata": {},
   "source": [
    "## Select only the needed disasters"
   ]
  },
  {
   "cell_type": "code",
   "execution_count": 65,
   "metadata": {},
   "outputs": [],
   "source": [
    "df = combined_df\n",
    "\n",
    "disasters = ['FLOOD','CYCLONE & FLOOD','FLASH FLOOD','URBAN FLOOD','COASTLINE','LANDSLIDE','LAND SUBSIDENCE',\n",
    "            'CYCLONE','Collapse of Mine','COASTLINE','GALE','HAILSTORM','STORM','STRONG WIND','TIDAL WAVE','TORNADO',\n",
    "            'ROCK FALL','EARTH SLIP','HEAVY RAINS','Subsidence','Collapse of Gabage Fill']\n",
    "df = df[df[\"Disaster\"].isin(disasters)]"
   ]
  },
  {
   "cell_type": "markdown",
   "metadata": {},
   "source": [
    "## Select only the years after 2000. \n",
    "### Insert another two columns for day, month and year"
   ]
  },
  {
   "cell_type": "code",
   "execution_count": 66,
   "metadata": {},
   "outputs": [
    {
     "name": "stderr",
     "output_type": "stream",
     "text": [
      "/var/folders/_x/05s1mgk171vd_snfhp0tsfyr0000gn/T/ipykernel_5220/3878071477.py:1: UserWarning: Could not infer format, so each element will be parsed individually, falling back to `dateutil`. To ensure parsing is consistent and as-expected, please specify a format.\n",
      "  df['Date'] = pd.to_datetime(df['Date'],errors='coerce')\n",
      "/var/folders/_x/05s1mgk171vd_snfhp0tsfyr0000gn/T/ipykernel_5220/3878071477.py:1: SettingWithCopyWarning: \n",
      "A value is trying to be set on a copy of a slice from a DataFrame.\n",
      "Try using .loc[row_indexer,col_indexer] = value instead\n",
      "\n",
      "See the caveats in the documentation: https://pandas.pydata.org/pandas-docs/stable/user_guide/indexing.html#returning-a-view-versus-a-copy\n",
      "  df['Date'] = pd.to_datetime(df['Date'],errors='coerce')\n"
     ]
    }
   ],
   "source": [
    "df['Date'] = pd.to_datetime(df['Date'],errors='coerce')\n",
    "\n",
    "df = df[(df['Date'].dt.year >= 2000) & (df['Date'].dt.year <=2021)].copy()\n",
    "\n",
    "df['Year'] = df['Date'].dt.year\n",
    "df['Month'] = df['Date'].dt.month\n",
    "df['Day'] = df['Date'].dt.day\n"
   ]
  },
  {
   "cell_type": "markdown",
   "metadata": {},
   "source": [
    "## Mapping the Districts to the District Codes"
   ]
  },
  {
   "cell_type": "code",
   "execution_count": 67,
   "metadata": {},
   "outputs": [],
   "source": [
    "districts = {\n",
    "    'lka001001':'Colombo',\n",
    "    'lka001002':'Gampaha',\n",
    "    'lka001003':'Kaluthara',\n",
    "    'lka002001':'Kandy',\n",
    "    'lka002002':'Matale',\n",
    "    'lka002003':'Nuwara Eliya',\n",
    "    'lka003001':'Galle',\n",
    "    'lka003002':'Matara',\n",
    "    'lka003003':'Hambantota',\n",
    "    'lka004001':'Jaffna',\n",
    "    'lka004002':'Mannar',\n",
    "    'lka004003':'Vavuniya',\n",
    "    'lka004004':'Mullaitivu',\n",
    "    'lka004005':'Kilinochchi',\n",
    "    'lka005001':'Batticaloa',\n",
    "    'lka005002':'Ampara',\n",
    "    'lka005003':'Trincomalee',\n",
    "    'lka006001':'Kurunegala',\n",
    "    'lka006002':'Puttalam',\n",
    "    'lka007001':'Anuradhapura',\n",
    "    'lka007002':'Polannaruwa',\n",
    "    'lka008001':'Badulla',\n",
    "    'lka008002':'Monaragala',\n",
    "    'lka009001':'Ratnapura',\n",
    "    'lka009002':'Kegalle'\n",
    "}\n",
    "\n",
    "df['District'] = df['Code District'].map(districts)\n",
    "df['Code District'] = df['Code District'].str[3:]\n",
    "df['Code Commune'] = df['Code Commune'].str[3:]\n",
    "df['Code Region'] = df['Code Region'].str[3:]\n",
    "\n",
    "col_order = ['Disaster', 'Code Region', 'Code District', 'Code Commune', 'Location',\n",
    "            'District','Date', 'Year', 'Month','Day']\n",
    "\n",
    "df = df[col_order]"
   ]
  },
  {
   "cell_type": "markdown",
   "metadata": {},
   "source": [
    "## Fill Location based on Code Commune"
   ]
  },
  {
   "cell_type": "code",
   "execution_count": 68,
   "metadata": {},
   "outputs": [],
   "source": [
    "\n",
    "def fill_location_nan(row):\n",
    "    if pd.isna(row['Location']):\n",
    "        code_commune = row['Code Commune']\n",
    "        matching_row = df[(df['Code Commune'] == code_commune) & (~pd.isna(df['Location']))]\n",
    "        if not matching_row.empty:\n",
    "            filled_value = matching_row['Location'].iloc[0]\n",
    "            return filled_value\n",
    "    return row['Location']\n",
    "df['Location'] = df.apply(fill_location_nan, axis=1)"
   ]
  },
  {
   "cell_type": "markdown",
   "metadata": {},
   "source": [
    "## Fill where both of them are nan by getting the mode"
   ]
  },
  {
   "cell_type": "code",
   "execution_count": 69,
   "metadata": {},
   "outputs": [],
   "source": [
    "def fill_code_commune_location_nan(row):\n",
    "    if pd.isna(row['Location']):\n",
    "        code_district = row['Code District']\n",
    "        district_data = df[df['Code District'] == code_district]\n",
    "\n",
    "        if not district_data.empty:\n",
    "            mode_location = district_data['Location'].mode().iloc[0]\n",
    "            return  mode_location\n",
    "\n",
    "    return row['Location']\n",
    "\n",
    "df['Location'] = df.apply(fill_code_commune_location_nan, axis=1, result_type='expand')"
   ]
  },
  {
   "cell_type": "markdown",
   "metadata": {},
   "source": [
    "## Split if there are more than one location"
   ]
  },
  {
   "cell_type": "code",
   "execution_count": 70,
   "metadata": {},
   "outputs": [],
   "source": [
    "df =df.dropna(subset=['District'])\n",
    "def split_locations(row):\n",
    "    locations = [loc.strip() for loc in row['Location'].split(',') if loc.strip()]\n",
    "    if not locations:\n",
    "        return [row]\n",
    "    rows = []\n",
    "    for loc in locations:\n",
    "        new_row = row.copy()\n",
    "        new_row['Location'] = loc\n",
    "        rows.append(new_row)\n",
    "    return rows\n",
    "\n",
    "new_rows = []\n",
    "for index, row in df.iterrows():\n",
    "    new_rows.extend(split_locations(row))\n",
    "\n",
    "new_df = pd.DataFrame(new_rows)\n",
    "df = new_df\n",
    "\n",
    "df.to_csv('Preprocessed.csv',index=False)"
   ]
  },
  {
   "cell_type": "markdown",
   "metadata": {},
   "source": [
    "## Preprocess Weather Dataframes"
   ]
  },
  {
   "cell_type": "code",
   "execution_count": 71,
   "metadata": {},
   "outputs": [],
   "source": [
    "weather_df = pd.read_csv(\"Rf data.csv\").dropna()\n",
    "weather_df = weather_df.rename(columns={'station_name':'District','yyyy':'Year'})\n",
    "columns = ['District','Year','1','2','3','4','5','6','7','8','9','10','11','12']\n",
    "weather_df = weather_df[columns]\n",
    "weather_df['District'] = weather_df['District'].str.capitalize()\n",
    "weather_df.loc[weather_df['District']=='Katugastota','District']= 'Kandy'\n",
    "weather_df.loc[weather_df['District']=='Pottuvil','District']= 'Ampara'\n",
    "weather_df.loc[weather_df['District']=='Nuwara eliya','District']= 'Nuwara Eliya'\n",
    "weather_df['Year']=weather_df['Year'].astype(int)\n",
    "\n",
    "disaster_df = pd.read_csv('Preprocessed.csv')"
   ]
  },
  {
   "cell_type": "markdown",
   "metadata": {},
   "source": [
    "## Insert New Columns"
   ]
  },
  {
   "cell_type": "code",
   "execution_count": 72,
   "metadata": {},
   "outputs": [],
   "source": [
    "rainfall_melted = pd.melt(weather_df, id_vars=[ 'District', 'Year'], var_name='Month', value_name='Rainfall(mm)')\n",
    "\n",
    "disaster_df['Rainfall(mm)'] = 0\n",
    "disaster_df['Wind Speed(mph)'] = 0"
   ]
  },
  {
   "cell_type": "markdown",
   "metadata": {},
   "source": [
    "## Insert weather by comparing date and location"
   ]
  },
  {
   "cell_type": "code",
   "execution_count": 73,
   "metadata": {},
   "outputs": [
    {
     "name": "stderr",
     "output_type": "stream",
     "text": [
      "/var/folders/_x/05s1mgk171vd_snfhp0tsfyr0000gn/T/ipykernel_5220/1763769233.py:11: FutureWarning: Setting an item of incompatible dtype is deprecated and will raise an error in a future version of pandas. Value '72.3' has dtype incompatible with int64, please explicitly cast to a compatible dtype first.\n",
      "  disaster_df.at[idx, 'Rainfall(mm)'] = rainfall_value\n"
     ]
    }
   ],
   "source": [
    "rainfall_melted['Month'] = rainfall_melted['Month'].astype(int)\n",
    "for idx, row in disaster_df.iterrows():\n",
    "    \n",
    "    matching_rows = rainfall_melted[(rainfall_melted['Year'] == row['Year']) &\n",
    "                                    (rainfall_melted['Month'] == row['Month']) &\n",
    "                                    (rainfall_melted['District'] == row['District'])]\n",
    "    \n",
    "    if not matching_rows.empty:\n",
    "        matching_index = matching_rows.index[0]\n",
    "        rainfall_value = matching_rows.at[matching_index, 'Rainfall(mm)']\n",
    "        disaster_df.at[idx, 'Rainfall(mm)'] = rainfall_value\n"
   ]
  },
  {
   "cell_type": "markdown",
   "metadata": {},
   "source": [
    "## Read the weather data and transpose it "
   ]
  },
  {
   "cell_type": "code",
   "execution_count": 74,
   "metadata": {},
   "outputs": [],
   "source": [
    "avg_wind = pd.read_csv('Wind_Average.csv')\n",
    "avg_rainfall = pd.read_csv('Rainfall_Average.csv')\n",
    "\n",
    "avg_rainfall_melted = pd.melt(avg_rainfall, id_vars=[ 'District'], var_name='Month', value_name='Rainfall(mm)')\n",
    "wind_melted = pd.melt(avg_wind, id_vars=[ 'District'], var_name='Month', value_name='Wind Speed(mph)')"
   ]
  },
  {
   "cell_type": "markdown",
   "metadata": {},
   "source": [
    "## Insert Average Rainfall and Wind Speed"
   ]
  },
  {
   "cell_type": "code",
   "execution_count": 75,
   "metadata": {},
   "outputs": [
    {
     "name": "stderr",
     "output_type": "stream",
     "text": [
      "/var/folders/_x/05s1mgk171vd_snfhp0tsfyr0000gn/T/ipykernel_5220/2727362558.py:15: FutureWarning: Setting an item of incompatible dtype is deprecated and will raise an error in a future version of pandas. Value '7.7' has dtype incompatible with int64, please explicitly cast to a compatible dtype first.\n",
      "  disaster_df.at[idx, 'Wind Speed(mph)'] = wind_value\n"
     ]
    }
   ],
   "source": [
    "avg_rainfall_melted = avg_rainfall_melted.reset_index(drop=True)\n",
    "\n",
    "for idx, row in disaster_df.iterrows():\n",
    "    matching_row_rf = avg_rainfall_melted[(avg_rainfall_melted['Month'].astype(int) == row['Month']) &\n",
    "                                    (avg_rainfall_melted['District'] == row['District'])]\n",
    "    matching_row_ws = wind_melted[(wind_melted['Month'].astype(int) == row['Month']) &\n",
    "                                    (wind_melted['District'] == row['District'])]\n",
    "    \n",
    "    if not matching_row_rf.empty and row['Rainfall(mm)']==0.0:\n",
    "        new_rainfall_value = matching_row_rf.iloc[0]['Rainfall(mm)']\n",
    "        disaster_df.at[idx, 'Rainfall(mm)'] = new_rainfall_value\n",
    "    if not matching_row_ws.empty:\n",
    "        matching_index = matching_row_ws.index[0]\n",
    "        wind_value = matching_row_ws.at[matching_index, 'Wind Speed(mph)']\n",
    "        disaster_df.at[idx, 'Wind Speed(mph)'] = wind_value\n",
    "\n",
    "disaster_df['Code District'] = disaster_df['Code District'].astype(int)\n",
    "disaster_df.to_csv('Weather Inserted.csv',index=False)\n",
    "        "
   ]
  },
  {
   "cell_type": "markdown",
   "metadata": {},
   "source": [
    "## Separate the disasters into 3 different files"
   ]
  },
  {
   "cell_type": "code",
   "execution_count": 76,
   "metadata": {},
   "outputs": [],
   "source": [
    "df = pd.read_csv('Weather Inserted.csv')\n",
    "columns = ['Disaster','Location','District','Date','Year','Month','Day','Rainfall(mm)','Wind Speed(mph)']\n",
    "df = df[columns]\n",
    "\n",
    "Flood=['FLOOD','CYCLONE & FLOOD','FLASH FLOOD','URBAN FLOOD','COASTLINE','HEAVY RAINS']\n",
    "Landslide = ['LANDSLIDE','LAND SUBSIDENCE','ROCK FALL','EARTH SLIP','Collapse of Gabage Fill','Collapse of Mine','Subsidence']\n",
    "Cyclone = ['CYCLONE','COASTLINE','CYCLONE & FLOOD','GALE','HAILSTORM','STORM','STRONG WIND','TIDAL WAVE','TORNADO']\n",
    "\n",
    "# Categorize disasters\n",
    "floods = df[df['Disaster'].str.upper().isin(Flood)].reset_index(drop=True).copy()\n",
    "floods.dropna(subset=['District'], inplace=True)\n",
    "floods['Disaster'] = 'Flood'\n",
    "floods['Flood'] = 1\n",
    "\n",
    "landslides = df[df['Disaster'].str.upper().isin(Landslide)].reset_index(drop=True).copy()\n",
    "landslides.dropna(subset=['District'], inplace=True)\n",
    "landslides['Disaster'] = 'Landslide'\n",
    "landslides['Landslide'] = 1\n",
    "\n",
    "cyclones = df[df['Disaster'].str.upper().isin(Cyclone)].reset_index(drop=True).copy()\n",
    "cyclones.dropna(subset=['District'], inplace=True)\n",
    "cyclones['Disaster'] = 'Cyclone'\n",
    "cyclones['Cyclone'] = 1\n"
   ]
  },
  {
   "cell_type": "markdown",
   "metadata": {},
   "source": [
    "## Plot of Flood vs Month"
   ]
  },
  {
   "cell_type": "code",
   "execution_count": 77,
   "metadata": {},
   "outputs": [
    {
     "data": {
      "image/png": "[encoded data removed]",
      "text/plain": [
       "<Figure size 1000x600 with 1 Axes>"
      ]
     },
     "metadata": {},
     "output_type": "display_data"
    }
   ],
   "source": [
    "flood_counts = floods['Month'].value_counts().sort_index()\n",
    "plt.figure(figsize=(10, 6))\n",
    "barplot = sb.barplot(x=flood_counts.index, y=flood_counts.values, hue=flood_counts.index, palette='viridis', legend=False)\n",
    "\n",
    "# Annotate each bar with its height using ax.text method\n",
    "for bar, count in zip(barplot.patches, flood_counts.values):\n",
    "    barplot.text(bar.get_x() + bar.get_width() / 2, bar.get_height() + 0.1, f'{int(count)}',\n",
    "                ha='center', va='bottom', color='black', fontsize=10)\n",
    "\n",
    "plt.title('Flood vs Month')\n",
    "plt.xlabel('Month')\n",
    "plt.ylabel('Flood Count')\n",
    "plt.show()\n"
   ]
  },
  {
   "cell_type": "markdown",
   "metadata": {},
   "source": [
    "## Plot of Landslide vs Month"
   ]
  },
  {
   "cell_type": "code",
   "execution_count": 78,
   "metadata": {},
   "outputs": [
    {
     "data": {
      "image/png": "[encoded data removed]",
      "text/plain": [
       "<Figure size 1000x600 with 1 Axes>"
      ]
     },
     "metadata": {},
     "output_type": "display_data"
    }
   ],
   "source": [
    "landslide_counts = landslides['Month'].value_counts().sort_index()\n",
    "plt.figure(figsize=(10, 6))\n",
    "barplot = sb.barplot(x=landslide_counts.index, y=landslide_counts.values, hue=landslide_counts.index, palette='viridis', legend=False)\n",
    "\n",
    "# Annotate each bar with its height using ax.text method\n",
    "for bar, count in zip(barplot.patches, landslide_counts.values):\n",
    "    barplot.text(bar.get_x() + bar.get_width() / 2, bar.get_height() + 0.1, f'{int(count)}',\n",
    "                ha='center', va='bottom', color='black', fontsize=10)\n",
    "\n",
    "plt.title('Landslide vs Month')\n",
    "plt.xlabel('Month')\n",
    "plt.ylabel('Landslide Count')\n",
    "plt.show()"
   ]
  },
  {
   "cell_type": "markdown",
   "metadata": {},
   "source": [
    "## Plot Cyclone vs Month"
   ]
  },
  {
   "cell_type": "code",
   "execution_count": 79,
   "metadata": {},
   "outputs": [
    {
     "data": {
      "image/png": "[encoded data removed]",
      "text/plain": [
       "<Figure size 1000x600 with 1 Axes>"
      ]
     },
     "metadata": {},
     "output_type": "display_data"
    }
   ],
   "source": [
    "cyclone_counts = cyclones['Month'].value_counts().sort_index()\n",
    "\n",
    "plt.figure(figsize=(10, 6))\n",
    "barplot = sb.barplot(x=cyclone_counts.index, y=cyclone_counts.values, hue=cyclone_counts.index, palette='viridis', legend=False)\n",
    "\n",
    "# Annotate each bar with its height using ax.text method\n",
    "for bar, count in zip(barplot.patches, cyclone_counts.values):\n",
    "    barplot.text(bar.get_x() + bar.get_width() / 2, bar.get_height() + 0.1, f'{int(count)}',\n",
    "                ha='center', va='bottom', color='black', fontsize=10)\n",
    "\n",
    "plt.title('Cyclone vs Month')\n",
    "plt.xlabel('Month')\n",
    "plt.ylabel('Cyclone Count')\n",
    "plt.show()"
   ]
  },
  {
   "cell_type": "markdown",
   "metadata": {},
   "source": [
    "## Function to get the random dates for 0 value"
   ]
  },
  {
   "cell_type": "code",
   "execution_count": 80,
   "metadata": {},
   "outputs": [],
   "source": [
    "def generate_random_dates(year, month, num_dates):\n",
    "    # Convert month names to numeric values\n",
    "    if pd.notna(year) and pd.notna(month):\n",
    "        year = int(year)\n",
    "        month = int(month)\n",
    "\n",
    "        start_date = datetime(year, month, 1)\n",
    "\n",
    "        if month == 12:\n",
    "            next_year = year + 1\n",
    "            next_month = 1\n",
    "        else:\n",
    "            next_year = year\n",
    "            next_month = month + 1\n",
    "\n",
    "        end_date = datetime(next_year, next_month, 1) - timedelta(days=1)\n",
    "\n",
    "        date_strings = [\n",
    "            (start_date + timedelta(days=random.randint(0, (end_date - start_date).days))).strftime('%Y-%m-%d') for _ in range(num_dates)\n",
    "        ]\n",
    "\n",
    "        return [datetime.strptime(date_str, '%Y-%m-%d') for date_str in date_strings]\n",
    "    else:\n",
    "        return None"
   ]
  },
  {
   "cell_type": "markdown",
   "metadata": {},
   "source": [
    "## Function for insert the new rows and Separate the three disasters"
   ]
  },
  {
   "cell_type": "code",
   "execution_count": 81,
   "metadata": {},
   "outputs": [
    {
     "name": "stdout",
     "output_type": "stream",
     "text": [
      "\n",
      "\n",
      "\n"
     ]
    }
   ],
   "source": [
    "def insert_rows(df,name):\n",
    "    duplicated_rows_list = []\n",
    "    for idx, row in df.iterrows():\n",
    "        duplicated_row = row.copy()\n",
    "        random_dates = generate_random_dates(row['Year'], row['Month'], 1)\n",
    "\n",
    "        for random_date in random_dates:\n",
    "            random_date_str = random_date.strftime('%Y-%m-%d')\n",
    "            if random_date_str not in df['Date'].values:\n",
    "                duplicated_row['Date'] = random_date_str\n",
    "                duplicated_row[name]=0\n",
    "                duplicated_rows_list.append(duplicated_row.copy())\n",
    "\n",
    "    new_df = pd.DataFrame(duplicated_rows_list)\n",
    "    print()\n",
    "    df = df.drop(columns=['Date'])\n",
    "    new_df = new_df.drop(columns=['Date'])\n",
    "\n",
    "    combined = pd.concat([df,new_df],ignore_index=True)\n",
    "\n",
    "    combined = combined.drop_duplicates()\n",
    "    \n",
    "    if name=='Cyclone':\n",
    "        combined = combined.drop(columns=['Rainfall(mm)'])\n",
    "        combined.sort_values(by='Year').to_csv(f'Model {name}.csv',index=False)\n",
    "    else:\n",
    "        combined = combined.drop(columns=['Wind Speed(mph)'])\n",
    "        combined.sort_values(by='Year').to_csv(f'Model {name}.csv',index=False)\n",
    "    \n",
    "insert_rows(floods,'Flood')\n",
    "insert_rows(landslides,'Landslide')\n",
    "insert_rows(cyclones,'Cyclone')\n"
   ]
  }
 ],
 "metadata": {
  "kernelspec": {
   "display_name": "Python 3",
   "language": "python",
   "name": "python3"
  },
  "language_info": {
   "codemirror_mode": {
    "name": "ipython",
    "version": 3
   },
   "file_extension": ".py",
   "mimetype": "text/x-python",
   "name": "python",
   "nbconvert_exporter": "python",
   "pygments_lexer": "ipython3",
   "version": "3.10.4"
  }
 },
 "nbformat": 4,
 "nbformat_minor": 2
}
