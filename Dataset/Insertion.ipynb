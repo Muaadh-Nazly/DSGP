{
 "cells": [
  {
   "cell_type": "code",
   "execution_count": 38,
   "metadata": {},
   "outputs": [],
   "source": [
    "import pandas as pd\n",
    "from datetime import datetime, timedelta\n",
    "import random"
   ]
  },
  {
   "cell_type": "code",
   "execution_count": 39,
   "metadata": {},
   "outputs": [],
   "source": [
    "flood = pd.read_csv('Flood.csv')\n",
    "landslide = pd.read_csv('Landslide.csv')\n",
    "cyclone = pd.read_csv('Cyclone.csv')"
   ]
  },
  {
   "cell_type": "code",
   "execution_count": 40,
   "metadata": {},
   "outputs": [],
   "source": [
    "def generate_random_dates(year, month, num_dates):\n",
    "    # Convert month names to numeric values\n",
    "    if pd.notna(year) and pd.notna(month):\n",
    "        year = int(year)\n",
    "        month = int(month)\n",
    "\n",
    "        start_date = datetime(year, month, 1)\n",
    "\n",
    "        if month == 12:\n",
    "            next_year = year + 1\n",
    "            next_month = 1\n",
    "        else:\n",
    "            next_year = year\n",
    "            next_month = month + 1\n",
    "\n",
    "        end_date = datetime(next_year, next_month, 1) - timedelta(days=1)\n",
    "\n",
    "        date_strings = [\n",
    "            (start_date + timedelta(days=random.randint(0, (end_date - start_date).days))).strftime('%Y-%m-%d') for _ in range(num_dates)\n",
    "        ]\n",
    "\n",
    "        return [datetime.strptime(date_str, '%Y-%m-%d') for date_str in date_strings]\n",
    "    else:\n",
    "        return None"
   ]
  },
  {
   "cell_type": "code",
   "execution_count": 42,
   "metadata": {},
   "outputs": [
    {
     "name": "stdout",
     "output_type": "stream",
     "text": [
      "\n",
      "\n",
      "\n"
     ]
    }
   ],
   "source": [
    "def insert_rows(df,name,serial_number):\n",
    "    duplicated_rows_list = []\n",
    "    for _, row in df.iterrows():\n",
    "        duplicated_row = row.copy()\n",
    "\n",
    "        \n",
    "        random_dates = generate_random_dates(row['Year'], row['Month'], 1)\n",
    "\n",
    "        for random_date in random_dates:\n",
    "            random_date_str = random_date.strftime('%Y-%m-%d')\n",
    "            if random_date_str not in df['Date'].values:\n",
    "                duplicated_row['Serial'] = serial_number\n",
    "                duplicated_row['Date'] = random_date_str\n",
    "                duplicated_row[name]=0\n",
    "                duplicated_rows_list.append(duplicated_row.copy())\n",
    "                serial_number+=1\n",
    "\n",
    "    new_df = pd.DataFrame(duplicated_rows_list)\n",
    "    print()\n",
    "\n",
    "\n",
    "    combined = pd.concat([df,new_df],ignore_index=True)\n",
    "    combined.sort_values(by='Date').to_csv(f'Model {name}.csv',index=False)\n",
    "    \n",
    "insert_rows(flood,'Flood',20001)\n",
    "insert_rows(landslide,'Landslide',30001)\n",
    "insert_rows(cyclone,'Cyclone',40001)\n"
   ]
  }
 ],
 "metadata": {
  "kernelspec": {
   "display_name": "Python 3",
   "language": "python",
   "name": "python3"
  },
  "language_info": {
   "codemirror_mode": {
    "name": "ipython",
    "version": 3
   },
   "file_extension": ".py",
   "mimetype": "text/x-python",
   "name": "python",
   "nbconvert_exporter": "python",
   "pygments_lexer": "ipython3",
   "version": "3.10.4"
  }
 },
 "nbformat": 4,
 "nbformat_minor": 2
}
