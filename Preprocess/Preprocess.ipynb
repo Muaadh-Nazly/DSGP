{
 "cells": [
  {
   "cell_type": "markdown",
   "metadata": {},
   "source": [
    "## Packages Used"
   ]
  },
  {
   "cell_type": "code",
   "execution_count": 27,
   "metadata": {},
   "outputs": [],
   "source": [
    "import pandas as pd\n",
    "import numpy as np\n",
    "from datetime import datetime, timedelta\n",
    "import matplotlib.pyplot as plt\n",
    "import seaborn as sb\n",
    "from sklearn.preprocessing import LabelEncoder"
   ]
  },
  {
   "cell_type": "markdown",
   "metadata": {},
   "source": [
    "## Dataset to get the year from 2014-2020"
   ]
  },
  {
   "cell_type": "code",
   "execution_count": 28,
   "metadata": {},
   "outputs": [
    {
     "name": "stderr",
     "output_type": "stream",
     "text": [
      "/var/folders/_x/05s1mgk171vd_snfhp0tsfyr0000gn/T/ipykernel_8280/2435295531.py:1: DtypeWarning: Columns (14,15,16,21) have mixed types. Specify dtype option on import or set low_memory=False.\n",
      "  new_df = pd.read_csv(\"New Dataset.csv\")\n"
     ]
    }
   ],
   "source": [
    "new_df = pd.read_csv(\"New Dataset.csv\")\n",
    "\n",
    "# Renaming the columns as our need\n",
    "new_df = new_df.rename(columns={'Event':'Disaster','Date (YMD)':'Date','&quot;Code Province&quot;':'Code Region','&quot;Code District&quot;':'Code District',\n",
    "                                '&quot;Code Division&quot;':'Code Commune','&quot;Division&quot;':'Location'})\n",
    "\n",
    "comb_needed = ['Disaster','Code Region','Code District','Code Commune','Location','Date']\n",
    "\n",
    "new_df = new_df[comb_needed]"
   ]
  },
  {
   "cell_type": "markdown",
   "metadata": {},
   "source": [
    "## Dataset to get the year up to 2014"
   ]
  },
  {
   "cell_type": "code",
   "execution_count": 29,
   "metadata": {},
   "outputs": [],
   "source": [
    "old_df = pd.read_csv(\"Original Dataset.csv\")\n",
    "\n",
    "# Renaming the columns as our need\n",
    "old_df = old_df.rename(columns={'Event':'Disaster','Date (YMD)':'Date'})\n",
    "needed_columns = ['Disaster','Code Region','Code District','Code Commune','Location','Date']\n",
    "\n",
    "old_df=old_df[needed_columns]\n"
   ]
  },
  {
   "cell_type": "markdown",
   "metadata": {},
   "source": [
    "## Combine both datasets and remove duplicates"
   ]
  },
  {
   "cell_type": "code",
   "execution_count": 30,
   "metadata": {},
   "outputs": [],
   "source": [
    "combined_df = pd.concat([old_df,new_df],ignore_index=True)\n",
    "combined_df = combined_df.drop_duplicates()\n",
    "combined_df.to_csv('Combined Dataset.csv',index=False)"
   ]
  },
  {
   "cell_type": "markdown",
   "metadata": {},
   "source": [
    "## Select only the needed disasters"
   ]
  },
  {
   "cell_type": "code",
   "execution_count": 31,
   "metadata": {},
   "outputs": [],
   "source": [
    "df = combined_df\n",
    "\n",
    "disasters = ['FLOOD','CYCLONE & FLOOD','FLASH FLOOD','URBAN FLOOD','COASTLINE','LANDSLIDE','LAND SUBSIDENCE',\n",
    "            'CYCLONE','Collapse of Mine','COASTLINE','GALE','HAILSTORM','STORM','STRONG WIND','TIDAL WAVE','TORNADO',\n",
    "            'ROCK FALL','EARTH SLIP','HEAVY RAINS','Subsidence','Collapse of Gabage Fill']\n",
    "df = df[df[\"Disaster\"].isin(disasters)]"
   ]
  },
  {
   "cell_type": "markdown",
   "metadata": {},
   "source": [
    "## Select only the years after 2000. "
   ]
  },
  {
   "cell_type": "code",
   "execution_count": 32,
   "metadata": {},
   "outputs": [
    {
     "name": "stderr",
     "output_type": "stream",
     "text": [
      "/var/folders/_x/05s1mgk171vd_snfhp0tsfyr0000gn/T/ipykernel_8280/1660549776.py:1: UserWarning: Could not infer format, so each element will be parsed individually, falling back to `dateutil`. To ensure parsing is consistent and as-expected, please specify a format.\n",
      "  df['Date'] = pd.to_datetime(df['Date'],errors='coerce')\n",
      "/var/folders/_x/05s1mgk171vd_snfhp0tsfyr0000gn/T/ipykernel_8280/1660549776.py:1: SettingWithCopyWarning: \n",
      "A value is trying to be set on a copy of a slice from a DataFrame.\n",
      "Try using .loc[row_indexer,col_indexer] = value instead\n",
      "\n",
      "See the caveats in the documentation: https://pandas.pydata.org/pandas-docs/stable/user_guide/indexing.html#returning-a-view-versus-a-copy\n",
      "  df['Date'] = pd.to_datetime(df['Date'],errors='coerce')\n"
     ]
    }
   ],
   "source": [
    "df['Date'] = pd.to_datetime(df['Date'],errors='coerce')\n",
    "\n",
    "df = df[(df['Date'].dt.year >= 2000) & (df['Date'].dt.year <=2021)].copy()"
   ]
  },
  {
   "cell_type": "markdown",
   "metadata": {},
   "source": [
    "## Mapping the Districts to the District Codes"
   ]
  },
  {
   "cell_type": "code",
   "execution_count": 33,
   "metadata": {},
   "outputs": [],
   "source": [
    "districts = {\n",
    "    'lka001001':'Colombo',\n",
    "    'lka001002':'Gampaha',\n",
    "    'lka001003':'Kalutara',\n",
    "    'lka002001':'Kandy',\n",
    "    'lka002002':'Matale',\n",
    "    'lka002003':'Nuwara Eliya',\n",
    "    'lka003001':'Galle',\n",
    "    'lka003002':'Matara',\n",
    "    'lka003003':'Hambantota',\n",
    "    'lka004001':'Jaffna',\n",
    "    'lka004002':'Mannar',\n",
    "    'lka004003':'Vavuniya',\n",
    "    'lka004004':'Mullaitivu',\n",
    "    'lka004005':'Kilinochchi',\n",
    "    'lka005001':'Batticaloa',\n",
    "    'lka005002':'Ampara',\n",
    "    'lka005003':'Trincomalee',\n",
    "    'lka006001':'Kurunegala',\n",
    "    'lka006002':'Puttalam',\n",
    "    'lka007001':'Anuradhapura',\n",
    "    'lka007002':'Polonnaruwa',\n",
    "    'lka008001':'Badulla',\n",
    "    'lka008002':'Monaragala',\n",
    "    'lka009001':'Ratnapura',\n",
    "    'lka009002':'Kegalle'\n",
    "}\n",
    "\n",
    "df['District'] = df['Code District'].map(districts)\n",
    "df['Code District'] = df['Code District'].str[3:]\n",
    "df['Code Commune'] = df['Code Commune'].str[3:]\n",
    "df['Code Region'] = df['Code Region'].str[3:]\n",
    "\n",
    "col_order = ['Disaster', 'Code Region', 'Code District', 'Code Commune', 'Location',\n",
    "            'District','Date']\n",
    "\n",
    "df = df[col_order]"
   ]
  },
  {
   "cell_type": "markdown",
   "metadata": {},
   "source": [
    "## Split if there are more than one location"
   ]
  },
  {
   "cell_type": "code",
   "execution_count": 34,
   "metadata": {},
   "outputs": [],
   "source": [
    "df =df.dropna(subset=['District'])\n",
    "def split_locations(row):\n",
    "    if pd.isna(row['Location']):\n",
    "        return [row]\n",
    "    \n",
    "    locations = [loc.strip() for loc in row['Location'].split(',') if loc.strip()]\n",
    "    if not locations:\n",
    "        return [row]\n",
    "    rows = []\n",
    "    for loc in locations:\n",
    "        new_row = row.copy()\n",
    "        new_row['Location'] = loc\n",
    "        rows.append(new_row)\n",
    "    return rows\n",
    "\n",
    "new_rows = []\n",
    "for index, row in df.iterrows():\n",
    "    new_rows.extend(split_locations(row))\n",
    "\n",
    "new_df = pd.DataFrame(new_rows)\n",
    "df = new_df"
   ]
  },
  {
   "cell_type": "markdown",
   "metadata": {},
   "source": [
    "## Clean Location Values"
   ]
  },
  {
   "cell_type": "code",
   "execution_count": 35,
   "metadata": {},
   "outputs": [],
   "source": [
    "for index, row in df.iterrows():\n",
    "        if pd.isna(row['Location']):\n",
    "                continue\n",
    "        location = row['Location']\n",
    "        location = location.replace(\"GN\",'')\n",
    "        # Keep spaces and 'GN' within brackets, and alphabetic characters\n",
    "        location = ''.join([char if char.isalpha() or char.isspace()  else '' for char in location]).strip()\n",
    "        df.at[index,'Location'] = location\n",
    "        \n",
    "df.replace('', np.nan, inplace=True)\n",
    "df['Year'] = df['Date'].dt.year\n",
    "df['Month'] = df['Date'].dt.month\n",
    "df['Day'] = df['Date'].dt.day"
   ]
  },
  {
   "cell_type": "markdown",
   "metadata": {},
   "source": [
    "## Fill Location based on Code Commune"
   ]
  },
  {
   "cell_type": "code",
   "execution_count": 36,
   "metadata": {},
   "outputs": [],
   "source": [
    "def fill_location_nan(row):\n",
    "    if pd.isna(row['Location']):\n",
    "        code_commune = row['Code Commune']\n",
    "        matching_row = df[(df['Code Commune'] == code_commune) & (~pd.isna(df['Location']))]\n",
    "        if not matching_row.empty:\n",
    "            filled_value = matching_row['Location'].iloc[0]\n",
    "            return filled_value\n",
    "    return row['Location']\n",
    "df['Location'] = df.apply(fill_location_nan, axis=1)"
   ]
  },
  {
   "cell_type": "markdown",
   "metadata": {},
   "source": [
    "## Fill Code Commune based on Location"
   ]
  },
  {
   "cell_type": "code",
   "execution_count": 37,
   "metadata": {},
   "outputs": [],
   "source": [
    "def fill_code_commune_nan(row):\n",
    "    if pd.isna(row['Code Commune']):\n",
    "        location = row['Location']\n",
    "        matching_row = df[(df['Location'] == location) & (~pd.isna(df['Code Commune']))]\n",
    "        if not matching_row.empty:\n",
    "            filled_value = matching_row['Code Commune'].iloc[0]\n",
    "            return filled_value\n",
    "    return row['Code Commune']\n",
    "df['Code Commune'] = df.apply(fill_code_commune_nan, axis=1)"
   ]
  },
  {
   "cell_type": "markdown",
   "metadata": {},
   "source": [
    "## Fill where both of them are nan"
   ]
  },
  {
   "cell_type": "code",
   "execution_count": 38,
   "metadata": {},
   "outputs": [],
   "source": [
    "def fill_code_commune_location_nan(row):\n",
    "    if pd.isna(row['Code Commune']) and pd.isna(row['Location']):\n",
    "        code_district = row['Code District']\n",
    "        district_data = df[df['Code District'] == code_district]\n",
    "\n",
    "        if not district_data.empty:\n",
    "            mode_code_commune = district_data['Code Commune'].mode().iloc[0]\n",
    "            mode_location = district_data['Location'].mode().iloc[0]\n",
    "            return mode_code_commune, mode_location\n",
    "\n",
    "    return row['Code Commune'], row['Location']\n",
    "\n",
    "df[['Code Commune', 'Location']] = df.apply(fill_code_commune_location_nan, axis=1, result_type='expand')\n"
   ]
  },
  {
   "cell_type": "markdown",
   "metadata": {},
   "source": [
    "## Fill Code Commune with new sequence"
   ]
  },
  {
   "cell_type": "code",
   "execution_count": 39,
   "metadata": {},
   "outputs": [],
   "source": [
    "df['Code Commune'] = pd.to_numeric(df['Code Commune'], errors='coerce')\n",
    "max_code_commune_by_district = df.groupby('Code District')['Code Commune'].max()\n",
    "\n",
    "def fill_code_commune_nan(row):\n",
    "    if pd.isna(row['Code Commune']):\n",
    "        district_code = row['Code District']\n",
    "        max_code_commune = max_code_commune_by_district.get(district_code, 0)\n",
    "        new_code_commune = max_code_commune + 1\n",
    "        return new_code_commune\n",
    "    return row['Code Commune']\n",
    "\n",
    "df['Code Commune'] = df.apply(fill_code_commune_nan, axis=1)\n",
    "df['Location'] = df['Location'].str.replace(r'\\s+', ' ', regex=True).str.title()\n",
    "df['District'] = df['District'].str.title()\n",
    "df['Code Commune'] = df['Code Commune'].astype(int)"
   ]
  },
  {
   "cell_type": "markdown",
   "metadata": {},
   "source": [
    "## Read the weather data and transpose it "
   ]
  },
  {
   "cell_type": "code",
   "execution_count": 40,
   "metadata": {},
   "outputs": [],
   "source": [
    "df['Rainfall(mm)'] = 0.0\n",
    "df['Wind Speed(mph)'] = 0.0\n",
    "df.drop(columns=['Code Region','Code District','Code Commune'])\n",
    "\n",
    "avg_wind = pd.read_csv('Wind_Daily_Average.csv')\n",
    "avg_rainfall = pd.read_csv('Rainfall_Daily_Average.csv')\n",
    "\n",
    "avg_rainfall_melted = pd.melt(avg_rainfall, id_vars=[ 'District'], var_name='Month', value_name='Rainfall(mm)')\n",
    "wind_melted = pd.melt(avg_wind, id_vars=[ 'District'], var_name='Month', value_name='Wind Speed(mph)')"
   ]
  },
  {
   "cell_type": "markdown",
   "metadata": {},
   "source": [
    "## Insert Average Rainfall and Wind Speed"
   ]
  },
  {
   "cell_type": "code",
   "execution_count": 41,
   "metadata": {},
   "outputs": [],
   "source": [
    "avg_rainfall_melted = avg_rainfall_melted.reset_index(drop=True)\n",
    "\n",
    "for idx, row in df.iterrows():\n",
    "    matching_row_rf = avg_rainfall_melted[(avg_rainfall_melted['Month'].astype(int) == row['Month']) &\n",
    "                                    (avg_rainfall_melted['District'] == row['District'])]\n",
    "    matching_row_ws = wind_melted[(wind_melted['Month'].astype(int) == row['Month']) &\n",
    "                                    (wind_melted['District'] == row['District'])]\n",
    "    \n",
    "    if not matching_row_rf.empty and row['Rainfall(mm)']==0.0:\n",
    "        new_rainfall_value = matching_row_rf.iloc[0]['Rainfall(mm)']\n",
    "        df.at[idx, 'Rainfall(mm)'] = new_rainfall_value\n",
    "    if not matching_row_ws.empty:\n",
    "        matching_index = matching_row_ws.index[0]\n",
    "        wind_value = matching_row_ws.at[matching_index, 'Wind Speed(mph)']\n",
    "        df.at[idx, 'Wind Speed(mph)'] = wind_value\n",
    "\n",
    "df['Code District'] = df['Code District'].astype(int)\n",
    "df = df.drop_duplicates()\n",
    "df.to_csv('Preprocessed.csv',index=False)"
   ]
  },
  {
   "cell_type": "markdown",
   "metadata": {},
   "source": [
    "## Encode the Locations and Districts for Modelling purpose"
   ]
  },
  {
   "cell_type": "code",
   "execution_count": 42,
   "metadata": {},
   "outputs": [
    {
     "name": "stderr",
     "output_type": "stream",
     "text": [
      "/var/folders/_x/05s1mgk171vd_snfhp0tsfyr0000gn/T/ipykernel_8280/2600308891.py:2: SettingWithCopyWarning: \n",
      "A value is trying to be set on a copy of a slice from a DataFrame.\n",
      "Try using .loc[row_indexer,col_indexer] = value instead\n",
      "\n",
      "See the caveats in the documentation: https://pandas.pydata.org/pandas-docs/stable/user_guide/indexing.html#returning-a-view-versus-a-copy\n",
      "  df['District'] = label_encoder.fit_transform(df['District'])\n",
      "/var/folders/_x/05s1mgk171vd_snfhp0tsfyr0000gn/T/ipykernel_8280/2600308891.py:6: SettingWithCopyWarning: \n",
      "A value is trying to be set on a copy of a slice from a DataFrame.\n",
      "Try using .loc[row_indexer,col_indexer] = value instead\n",
      "\n",
      "See the caveats in the documentation: https://pandas.pydata.org/pandas-docs/stable/user_guide/indexing.html#returning-a-view-versus-a-copy\n",
      "  df['Location'] = label_encoder.fit_transform(df['Location'])\n"
     ]
    }
   ],
   "source": [
    "label_encoder = LabelEncoder()\n",
    "df['District'] = label_encoder.fit_transform(df['District'])\n",
    "mapping_district = dict(zip(label_encoder.classes_, label_encoder.transform(label_encoder.classes_)))\n",
    "\n",
    "\n",
    "df['Location'] = label_encoder.fit_transform(df['Location'])\n",
    "mapping_location = dict(zip(label_encoder.classes_, label_encoder.transform(label_encoder.classes_)))\n",
    "\n",
    "with open ('District_Mapped.txt','w+') as file:\n",
    "    for key,pair in mapping_district.items():\n",
    "        file.write(str(key)+' : '+str(pair))\n",
    "        file.write('\\n')\n",
    "with open ('Location_Mapped.txt','w+') as file:\n",
    "    for key,pair in mapping_location.items():\n",
    "        file.write(str(key)+' : '+str(pair))\n",
    "        file.write('\\n')"
   ]
  },
  {
   "cell_type": "markdown",
   "metadata": {},
   "source": [
    "## Separate the disasters into 3 different files"
   ]
  },
  {
   "cell_type": "code",
   "execution_count": 73,
   "metadata": {},
   "outputs": [],
   "source": [
    "df = pd.read_csv('Preprocessed.csv')\n",
    "df = df.drop(columns=['Code Region','Code District','Code Commune'])\n",
    "\n",
    "Flood=['FLOOD','CYCLONE & FLOOD','FLASH FLOOD','URBAN FLOOD','COASTLINE','HEAVY RAINS']\n",
    "Landslide = ['LANDSLIDE','LAND SUBSIDENCE','ROCK FALL','EARTH SLIP','Collapse of Gabage Fill','Collapse of Mine','Subsidence']\n",
    "Cyclone = ['CYCLONE','COASTLINE','CYCLONE & FLOOD','GALE','HAILSTORM','STORM','STRONG WIND','TIDAL WAVE','TORNADO']\n",
    "\n",
    "# Categorize disasters\n",
    "floods = df[df['Disaster'].str.upper().isin(Flood)].reset_index(drop=True)\n",
    "floods.dropna(subset=['District'], inplace=True)\n",
    "floods['Disaster'] = 'Flood'\n",
    "floods['Flood'] = 1\n",
    "floods = floods.drop_duplicates()\n",
    "\n",
    "landslides = df[df['Disaster'].str.upper().isin(Landslide)].reset_index(drop=True).copy()\n",
    "landslides.dropna(subset=['District'], inplace=True)\n",
    "landslides['Disaster'] = 'Landslide'\n",
    "landslides['Landslide'] = 1\n",
    "landslides = landslides.drop_duplicates()\n",
    "\n",
    "cyclones = df[df['Disaster'].str.upper().isin(Cyclone)].reset_index(drop=True).copy()\n",
    "cyclones.dropna(subset=['District'], inplace=True)\n",
    "cyclones['Disaster'] = 'Cyclone'\n",
    "cyclones['Cyclone'] = 1\n",
    "cyclones = cyclones.drop_duplicates()\n"
   ]
  },
  {
   "cell_type": "markdown",
   "metadata": {},
   "source": [
    "## Plot of Flood vs Month"
   ]
  },
  {
   "cell_type": "code",
   "execution_count": 74,
   "metadata": {},
   "outputs": [
    {
     "data": {
      "image/png": "[encoded data removed]",
      "text/plain": [
       "<Figure size 1000x600 with 1 Axes>"
      ]
     },
     "metadata": {},
     "output_type": "display_data"
    }
   ],
   "source": [
    "flood_counts = floods['Month'].value_counts().sort_index()\n",
    "plt.figure(figsize=(10, 6))\n",
    "barplot = sb.barplot(x=flood_counts.index, y=flood_counts.values, hue=flood_counts.index, palette='viridis', legend=False)\n",
    "\n",
    "# Annotate each bar with its height using ax.text method\n",
    "for bar, count in zip(barplot.patches, flood_counts.values):\n",
    "    barplot.text(bar.get_x() + bar.get_width() / 2, bar.get_height() + 0.1, f'{int(count)}',\n",
    "                ha='center', va='bottom', color='black', fontsize=10)\n",
    "\n",
    "plt.title('Flood vs Month')\n",
    "plt.xlabel('Month')\n",
    "plt.ylabel('Flood Count')\n",
    "plt.show()\n"
   ]
  },
  {
   "cell_type": "markdown",
   "metadata": {},
   "source": [
    "## Plot of Landslide vs Month"
   ]
  },
  {
   "cell_type": "code",
   "execution_count": 75,
   "metadata": {},
   "outputs": [
    {
     "data": {
      "image/png": "[encoded data removed]",
      "text/plain": [
       "<Figure size 1000x600 with 1 Axes>"
      ]
     },
     "metadata": {},
     "output_type": "display_data"
    }
   ],
   "source": [
    "landslide_counts = landslides['Month'].value_counts().sort_index()\n",
    "plt.figure(figsize=(10, 6))\n",
    "barplot = sb.barplot(x=landslide_counts.index, y=landslide_counts.values, hue=landslide_counts.index, palette='viridis', legend=False)\n",
    "\n",
    "# Annotate each bar with its height using ax.text method\n",
    "for bar, count in zip(barplot.patches, landslide_counts.values):\n",
    "    barplot.text(bar.get_x() + bar.get_width() / 2, bar.get_height() + 0.1, f'{int(count)}',\n",
    "                ha='center', va='bottom', color='black', fontsize=10)\n",
    "\n",
    "plt.title('Landslide vs Month')\n",
    "plt.xlabel('Month')\n",
    "plt.ylabel('Landslide Count')\n",
    "plt.show()"
   ]
  },
  {
   "cell_type": "markdown",
   "metadata": {},
   "source": [
    "## Plot Cyclone vs Month"
   ]
  },
  {
   "cell_type": "code",
   "execution_count": 76,
   "metadata": {},
   "outputs": [
    {
     "data": {
      "image/png": "[encoded data removed]",
      "text/plain": [
       "<Figure size 1000x600 with 1 Axes>"
      ]
     },
     "metadata": {},
     "output_type": "display_data"
    }
   ],
   "source": [
    "cyclone_counts = cyclones['Month'].value_counts().sort_index()\n",
    "\n",
    "plt.figure(figsize=(10, 6))\n",
    "barplot = sb.barplot(x=cyclone_counts.index, y=cyclone_counts.values, hue=cyclone_counts.index, palette='viridis', legend=False)\n",
    "\n",
    "# Annotate each bar with its height using ax.text method\n",
    "for bar, count in zip(barplot.patches, cyclone_counts.values):\n",
    "    barplot.text(bar.get_x() + bar.get_width() / 2, bar.get_height() + 0.1, f'{int(count)}',\n",
    "                ha='center', va='bottom', color='black', fontsize=10)\n",
    "\n",
    "plt.title('Cyclone vs Month')\n",
    "plt.xlabel('Month')\n",
    "plt.ylabel('Cyclone Count')\n",
    "plt.show()"
   ]
  },
  {
   "cell_type": "markdown",
   "metadata": {},
   "source": [
    "## Function to get the random dates and xheck duplicate dates"
   ]
  },
  {
   "cell_type": "code",
   "execution_count": 77,
   "metadata": {},
   "outputs": [],
   "source": [
    "def generate_random_date(year, month):\n",
    "    start_date = datetime(year, month, 1)\n",
    "    end_date = start_date + timedelta(days=30)\n",
    "    random_date = start_date + timedelta(days=np.random.randint((end_date - start_date).days))\n",
    "    return random_date\n",
    "\n",
    "def is_duplicate(df, random_date, location):\n",
    "    random_date_str = random_date.strftime('%Y-%m-%d')\n",
    "    duplicate_mask = (df['Date'] == random_date_str) & (df['Location'] == location)\n",
    "    return duplicate_mask.any()"
   ]
  },
  {
   "cell_type": "markdown",
   "metadata": {},
   "source": [
    "## Function for insert the new rows and Separate the three disasters"
   ]
  },
  {
   "cell_type": "code",
   "execution_count": 79,
   "metadata": {},
   "outputs": [],
   "source": [
    "def insert_rows(df, name):\n",
    "    duplicated_rows_list = []\n",
    "    for idx, row in df.iterrows():\n",
    "        duplicated_row = row.copy()\n",
    "        location = row['Location']\n",
    "        random_date = generate_random_date(row['Year'], row['Month'])\n",
    "        \n",
    "        while is_duplicate(df, random_date, location):\n",
    "            random_date = generate_random_date(row['Year'], row['Month'])\n",
    "        duplicated_row['Year'] = random_date.year\n",
    "        duplicated_row['Month'] = random_date.month\n",
    "        duplicated_row['Day'] = random_date.day\n",
    "        duplicated_row[name] = 0\n",
    "        duplicated_rows_list.append(duplicated_row)\n",
    "\n",
    "    new_df = pd.DataFrame(duplicated_rows_list)\n",
    "\n",
    "    combined = pd.concat([df, new_df], ignore_index=True)\n",
    "    combined = combined.drop_duplicates()\n",
    "    combined = combined.drop(columns=['Date'])\n",
    "    if name=='Cyclone':\n",
    "        combined = combined.drop(columns=['Rainfall(mm)'])\n",
    "        combined = combined.drop_duplicates()\n",
    "        combined.sort_values(by='District').to_csv(f'../Modelling/Model {name}.csv',index=False)\n",
    "    else:\n",
    "        combined = combined.drop(columns=['Wind Speed(mph)'])\n",
    "        combined = combined.drop_duplicates()\n",
    "        combined.sort_values(by='District').to_csv(f'../Mdelling/Model {name}.csv',index=False)\n",
    "\n",
    "insert_rows(floods,'Flood')\n",
    "insert_rows(landslides,'Landslide')\n",
    "insert_rows(cyclones,'Cyclone')"
   ]
  }
 ],
 "metadata": {
  "kernelspec": {
   "display_name": "Python 3",
   "language": "python",
   "name": "python3"
  },
  "language_info": {
   "codemirror_mode": {
    "name": "ipython",
    "version": 3
   },
   "file_extension": ".py",
   "mimetype": "text/x-python",
   "name": "python",
   "nbconvert_exporter": "python",
   "pygments_lexer": "ipython3",
   "version": "3.9.6"
  }
 },
 "nbformat": 4,
 "nbformat_minor": 2
}
